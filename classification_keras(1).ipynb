{
 "cells": [
  {
   "cell_type": "code",
   "execution_count": 135,
   "id": "32b2e919",
   "metadata": {},
   "outputs": [],
   "source": [
    "import numpy as np\n",
    "import pandas as pd\n",
    "%matplotlib inline\n",
    "import matplotlib as mpl\n",
    "import matplotlib.pyplot as plt\n",
    "import tensorflow as tf\n",
    "import keras\n",
    "import pydot"
   ]
  },
  {
   "cell_type": "markdown",
   "id": "c981c430",
   "metadata": {},
   "source": [
    "install and import Tensorflow and Keras"
   ]
  },
  {
   "cell_type": "code",
   "execution_count": 97,
   "id": "f3e9b742",
   "metadata": {},
   "outputs": [
    {
     "name": "stdout",
     "output_type": "stream",
     "text": [
      "Requirement already satisfied: tensorflow in c:\\users\\user\\anaconda3\\lib\\site-packages (2.14.0)\n",
      "Requirement already satisfied: tensorflow-intel==2.14.0 in c:\\users\\user\\anaconda3\\lib\\site-packages (from tensorflow) (2.14.0)\n",
      "Requirement already satisfied: libclang>=13.0.0 in c:\\users\\user\\anaconda3\\lib\\site-packages (from tensorflow-intel==2.14.0->tensorflow) (16.0.6)\n",
      "Requirement already satisfied: google-pasta>=0.1.1 in c:\\users\\user\\anaconda3\\lib\\site-packages (from tensorflow-intel==2.14.0->tensorflow) (0.2.0)\n",
      "Requirement already satisfied: astunparse>=1.6.0 in c:\\users\\user\\anaconda3\\lib\\site-packages (from tensorflow-intel==2.14.0->tensorflow) (1.6.3)\n",
      "Requirement already satisfied: packaging in c:\\users\\user\\anaconda3\\lib\\site-packages (from tensorflow-intel==2.14.0->tensorflow) (21.3)\n",
      "Requirement already satisfied: grpcio<2.0,>=1.24.3 in c:\\users\\user\\anaconda3\\lib\\site-packages (from tensorflow-intel==2.14.0->tensorflow) (1.59.0)\n",
      "Requirement already satisfied: numpy>=1.23.5 in c:\\users\\user\\anaconda3\\lib\\site-packages (from tensorflow-intel==2.14.0->tensorflow) (1.26.0)\n",
      "Requirement already satisfied: termcolor>=1.1.0 in c:\\users\\user\\anaconda3\\lib\\site-packages (from tensorflow-intel==2.14.0->tensorflow) (2.3.0)\n",
      "Requirement already satisfied: flatbuffers>=23.5.26 in c:\\users\\user\\anaconda3\\lib\\site-packages (from tensorflow-intel==2.14.0->tensorflow) (23.5.26)\n",
      "Requirement already satisfied: tensorflow-io-gcs-filesystem>=0.23.1 in c:\\users\\user\\anaconda3\\lib\\site-packages (from tensorflow-intel==2.14.0->tensorflow) (0.31.0)\n",
      "Requirement already satisfied: opt-einsum>=2.3.2 in c:\\users\\user\\anaconda3\\lib\\site-packages (from tensorflow-intel==2.14.0->tensorflow) (3.3.0)\n",
      "Requirement already satisfied: setuptools in c:\\users\\user\\anaconda3\\lib\\site-packages (from tensorflow-intel==2.14.0->tensorflow) (63.4.1)\n",
      "Requirement already satisfied: absl-py>=1.0.0 in c:\\users\\user\\anaconda3\\lib\\site-packages (from tensorflow-intel==2.14.0->tensorflow) (2.0.0)\n",
      "Requirement already satisfied: h5py>=2.9.0 in c:\\users\\user\\anaconda3\\lib\\site-packages (from tensorflow-intel==2.14.0->tensorflow) (3.7.0)\n",
      "Requirement already satisfied: ml-dtypes==0.2.0 in c:\\users\\user\\anaconda3\\lib\\site-packages (from tensorflow-intel==2.14.0->tensorflow) (0.2.0)\n",
      "Requirement already satisfied: tensorboard<2.15,>=2.14 in c:\\users\\user\\anaconda3\\lib\\site-packages (from tensorflow-intel==2.14.0->tensorflow) (2.14.1)\n",
      "Requirement already satisfied: protobuf!=4.21.0,!=4.21.1,!=4.21.2,!=4.21.3,!=4.21.4,!=4.21.5,<5.0.0dev,>=3.20.3 in c:\\users\\user\\anaconda3\\lib\\site-packages (from tensorflow-intel==2.14.0->tensorflow) (4.24.4)\n",
      "Requirement already satisfied: six>=1.12.0 in c:\\users\\user\\anaconda3\\lib\\site-packages (from tensorflow-intel==2.14.0->tensorflow) (1.16.0)\n",
      "Requirement already satisfied: keras<2.15,>=2.14.0 in c:\\users\\user\\anaconda3\\lib\\site-packages (from tensorflow-intel==2.14.0->tensorflow) (2.14.0)\n",
      "Requirement already satisfied: tensorflow-estimator<2.15,>=2.14.0 in c:\\users\\user\\anaconda3\\lib\\site-packages (from tensorflow-intel==2.14.0->tensorflow) (2.14.0)\n",
      "Requirement already satisfied: wrapt<1.15,>=1.11.0 in c:\\users\\user\\anaconda3\\lib\\site-packages (from tensorflow-intel==2.14.0->tensorflow) (1.14.1)\n",
      "Requirement already satisfied: typing-extensions>=3.6.6 in c:\\users\\user\\anaconda3\\lib\\site-packages (from tensorflow-intel==2.14.0->tensorflow) (4.3.0)\n",
      "Requirement already satisfied: gast!=0.5.0,!=0.5.1,!=0.5.2,>=0.2.1 in c:\\users\\user\\anaconda3\\lib\\site-packages (from tensorflow-intel==2.14.0->tensorflow) (0.5.4)\n",
      "Requirement already satisfied: wheel<1.0,>=0.23.0 in c:\\users\\user\\anaconda3\\lib\\site-packages (from astunparse>=1.6.0->tensorflow-intel==2.14.0->tensorflow) (0.37.1)\n",
      "Requirement already satisfied: markdown>=2.6.8 in c:\\users\\user\\anaconda3\\lib\\site-packages (from tensorboard<2.15,>=2.14->tensorflow-intel==2.14.0->tensorflow) (3.3.4)\n",
      "Requirement already satisfied: requests<3,>=2.21.0 in c:\\users\\user\\anaconda3\\lib\\site-packages (from tensorboard<2.15,>=2.14->tensorflow-intel==2.14.0->tensorflow) (2.28.1)\n",
      "Requirement already satisfied: tensorboard-data-server<0.8.0,>=0.7.0 in c:\\users\\user\\anaconda3\\lib\\site-packages (from tensorboard<2.15,>=2.14->tensorflow-intel==2.14.0->tensorflow) (0.7.1)\n",
      "Requirement already satisfied: google-auth<3,>=1.6.3 in c:\\users\\user\\anaconda3\\lib\\site-packages (from tensorboard<2.15,>=2.14->tensorflow-intel==2.14.0->tensorflow) (2.23.3)\n",
      "Requirement already satisfied: google-auth-oauthlib<1.1,>=0.5 in c:\\users\\user\\anaconda3\\lib\\site-packages (from tensorboard<2.15,>=2.14->tensorflow-intel==2.14.0->tensorflow) (1.0.0)\n",
      "Requirement already satisfied: werkzeug>=1.0.1 in c:\\users\\user\\anaconda3\\lib\\site-packages (from tensorboard<2.15,>=2.14->tensorflow-intel==2.14.0->tensorflow) (2.0.3)\n",
      "Requirement already satisfied: pyparsing!=3.0.5,>=2.0.2 in c:\\users\\user\\anaconda3\\lib\\site-packages (from packaging->tensorflow-intel==2.14.0->tensorflow) (3.0.9)\n",
      "Requirement already satisfied: rsa<5,>=3.1.4 in c:\\users\\user\\anaconda3\\lib\\site-packages (from google-auth<3,>=1.6.3->tensorboard<2.15,>=2.14->tensorflow-intel==2.14.0->tensorflow) (4.9)\n",
      "Requirement already satisfied: pyasn1-modules>=0.2.1 in c:\\users\\user\\anaconda3\\lib\\site-packages (from google-auth<3,>=1.6.3->tensorboard<2.15,>=2.14->tensorflow-intel==2.14.0->tensorflow) (0.2.8)\n",
      "Requirement already satisfied: cachetools<6.0,>=2.0.0 in c:\\users\\user\\anaconda3\\lib\\site-packages (from google-auth<3,>=1.6.3->tensorboard<2.15,>=2.14->tensorflow-intel==2.14.0->tensorflow) (5.3.1)\n",
      "Requirement already satisfied: requests-oauthlib>=0.7.0 in c:\\users\\user\\anaconda3\\lib\\site-packages (from google-auth-oauthlib<1.1,>=0.5->tensorboard<2.15,>=2.14->tensorflow-intel==2.14.0->tensorflow) (1.3.1)\n",
      "Requirement already satisfied: idna<4,>=2.5 in c:\\users\\user\\anaconda3\\lib\\site-packages (from requests<3,>=2.21.0->tensorboard<2.15,>=2.14->tensorflow-intel==2.14.0->tensorflow) (3.3)\n",
      "Requirement already satisfied: certifi>=2017.4.17 in c:\\users\\user\\anaconda3\\lib\\site-packages (from requests<3,>=2.21.0->tensorboard<2.15,>=2.14->tensorflow-intel==2.14.0->tensorflow) (2022.9.14)\n",
      "Requirement already satisfied: charset-normalizer<3,>=2 in c:\\users\\user\\anaconda3\\lib\\site-packages (from requests<3,>=2.21.0->tensorboard<2.15,>=2.14->tensorflow-intel==2.14.0->tensorflow) (2.0.4)\n",
      "Requirement already satisfied: urllib3<1.27,>=1.21.1 in c:\\users\\user\\anaconda3\\lib\\site-packages (from requests<3,>=2.21.0->tensorboard<2.15,>=2.14->tensorflow-intel==2.14.0->tensorflow) (1.26.11)\n",
      "Requirement already satisfied: pyasn1<0.5.0,>=0.4.6 in c:\\users\\user\\anaconda3\\lib\\site-packages (from pyasn1-modules>=0.2.1->google-auth<3,>=1.6.3->tensorboard<2.15,>=2.14->tensorflow-intel==2.14.0->tensorflow) (0.4.8)\n",
      "Requirement already satisfied: oauthlib>=3.0.0 in c:\\users\\user\\anaconda3\\lib\\site-packages (from requests-oauthlib>=0.7.0->google-auth-oauthlib<1.1,>=0.5->tensorboard<2.15,>=2.14->tensorflow-intel==2.14.0->tensorflow) (3.2.2)\n"
     ]
    }
   ],
   "source": [
    "!pip install tensorflow"
   ]
  },
  {
   "cell_type": "code",
   "execution_count": 98,
   "id": "f89c439b",
   "metadata": {},
   "outputs": [
    {
     "name": "stdout",
     "output_type": "stream",
     "text": [
      "Requirement already satisfied: keras in c:\\users\\user\\anaconda3\\lib\\site-packages (2.14.0)\n"
     ]
    }
   ],
   "source": [
    "!pip install keras"
   ]
  },
  {
   "cell_type": "code",
   "execution_count": 134,
   "id": "561c282f",
   "metadata": {},
   "outputs": [
    {
     "name": "stdout",
     "output_type": "stream",
     "text": [
      "Requirement already satisfied: pydot in c:\\users\\user\\anaconda3\\lib\\site-packages (1.4.2)\n",
      "Requirement already satisfied: pyparsing>=2.1.4 in c:\\users\\user\\anaconda3\\lib\\site-packages (from pydot) (3.0.9)\n"
     ]
    }
   ],
   "source": [
    "!pip install pydot"
   ]
  },
  {
   "cell_type": "code",
   "execution_count": 100,
   "id": "c679e016",
   "metadata": {},
   "outputs": [
    {
     "name": "stdout",
     "output_type": "stream",
     "text": [
      "2.14.0\n"
     ]
    }
   ],
   "source": [
    "print(tf.__version__)\n"
   ]
  },
  {
   "cell_type": "code",
   "execution_count": 101,
   "id": "6e1975eb",
   "metadata": {},
   "outputs": [
    {
     "name": "stdout",
     "output_type": "stream",
     "text": [
      "AxesImage(80,52.8;496x369.6)\n"
     ]
    },
    {
     "data": {
      "image/png": "[encoded data removed]",
      "text/plain": [
       "<Figure size 640x480 with 1 Axes>"
      ]
     },
     "metadata": {},
     "output_type": "display_data"
    }
   ],
   "source": [
    "picture=[[1,2,3,4],[4,5,6,7],[2,4,5,6],[3,67,88,90],[1,2,5,6]]\n",
    "print(plt.imshow(picture))"
   ]
  },
  {
   "cell_type": "code",
   "execution_count": 102,
   "id": "aa6c806f",
   "metadata": {},
   "outputs": [],
   "source": [
    "y=[[  0,   0,   0,   0,   1,   0,   0,   0,   0,  22,  88, 188, 172,\n",
    "        132, 125, 141, 199, 143,   9,   0,   0,   0,   1,   0,   0,   0,\n",
    "          0,   0],\n",
    "       [  0,   0,   0,   1,   0,   0,  20, 131, 199, 206, 196, 202, 242,\n",
    "        255, 255, 250, 222, 197, 206, 188, 126,  17,   0,   0,   0,   0,\n",
    "          0,   0],\n",
    "       [  0,   0,   0,   1,   0,  35, 214, 191, 183, 178, 175, 168, 150,\n",
    "        162, 159, 152, 158, 179, 183, 189, 195, 185,  82,   0,   0,   0,\n",
    "          0,   0],\n",
    "       [  0,   0,   0,   0,   0, 170, 190, 172, 177, 176, 171, 169, 162,\n",
    "        155, 148, 154, 169, 174, 175, 175, 177, 183, 188,  12,   0,   0,\n",
    "          0,   0],\n",
    "       [  0,   0,   0,   0,  25, 194, 180, 178, 174, 184, 187, 189, 187,\n",
    "        184, 181, 189, 200, 197, 193, 190, 178, 175, 194,  90,   0,   0,\n",
    "          0,   0],\n",
    "       [  0,   0,   0,   0,  42, 218, 191, 197, 208, 204, 211, 209, 210,\n",
    "        212, 211, 214, 215, 213, 214, 211, 211, 191, 200, 158,   0,   0,\n",
    "          0,   0],\n",
    "       [  0,   0,   0,   0,  88, 221, 215, 217, 219, 211, 185, 150, 118,\n",
    "        107,  99,  88,  83,  90, 135, 212, 203, 207, 219, 169,   0,   0,\n",
    "          0,   0],\n",
    "       [  0,   0,   0,   0,   0,  27, 118, 162,  40,   0,   0,   0,  10,\n",
    "         19,  28,  39,  47,  36,   0,   0, 203, 230, 220, 203,   0,   0,\n",
    "          0,   0],\n",
    "       [  0,   0,   0,   0, 138, 136,  71,  69,  54, 216, 217, 203, 184,\n",
    "        168, 163, 162, 163, 178, 221, 186,  38,  26,   7,   0,   0,   0,\n",
    "          0,   0],\n",
    "       [  0,   0,   0,   0,  67, 134, 154, 224, 129,  66,  81, 117, 129,\n",
    "        128, 132, 137, 131, 129,  86,  73, 157, 151, 134, 216,  18,   0,\n",
    "          0,   0],\n",
    "       [  0,   0,   0,   0, 203, 198, 172, 183, 206, 255, 255, 250, 243,\n",
    "        240, 239, 235, 238, 244, 255, 238, 184, 160,  86,  98,   0,   0,\n",
    "          0,   0],\n",
    "       [  0,   0,   0,   0, 122, 188, 224, 151, 105, 127,  97, 100, 105,\n",
    "        114, 117, 117, 113, 103,  98, 111, 142, 254, 191, 255,  49,   0,\n",
    "          0,   0],\n",
    "       [  0,   0,   0,   0, 163, 179, 200,  95, 154, 198, 197, 200, 200,\n",
    "        198, 197, 198, 199, 202, 200, 176,  86, 206, 157, 162,  10,   0,\n",
    "          0,   0],\n",
    "       [  0,   0,   0,   0, 197, 201, 229,  71, 144, 194, 181, 183, 179,\n",
    "        182, 180, 179, 180, 190, 185, 197,  76, 219, 185, 201,  34,   0,\n",
    "          0,   0],\n",
    "       [  0,   0,   0,   0, 199, 193, 226,  58, 154, 192, 184, 187, 184,\n",
    "        186, 184, 185, 183, 192, 191, 200,  56, 219, 203, 207,  60,   0,\n",
    "          0,   0],\n",
    "       [  0,   0,   0,   0, 201, 194, 224,  41, 163, 190, 186, 186, 184,\n",
    "        185, 183, 185, 178, 190, 194, 202,  33, 211, 200, 206,  73,   0,\n",
    "          0,   0],\n",
    "       [  0,   0,   0,   0, 201, 197, 222,  17, 172, 190, 186, 187, 182,\n",
    "        186, 185, 187, 180, 187, 193, 202,  26, 212, 202, 203,  76,   0,\n",
    "          0,   0],\n",
    "       [  0,   0,   0,   0, 200, 197, 223,   0, 177, 189, 184, 185, 178,\n",
    "        184, 183, 184, 180, 183, 189, 203,  35, 196, 203, 203,  84,   0,\n",
    "          0,   0],\n",
    "       [  0,   0,   0,   0, 200, 197, 223,   0, 185, 187, 185, 187, 180,\n",
    "        184, 182, 183, 178, 182, 183, 205,  44, 159, 207, 201,  85,   0,\n",
    "          0,   0],\n",
    "       [  0,   0,   0,   0, 187, 198, 225,   0, 194, 188, 184, 185, 180,\n",
    "        183, 183, 184, 181, 181, 177, 206,  46, 129, 211, 200,  88,   0,\n",
    "          0,   0],\n",
    "       [  0,   0,   0,   6, 186, 200, 211,   0, 199, 189, 184, 184, 185,\n",
    "        182, 183, 184, 185, 182, 175, 205,  50,  97, 216, 197,  93,   0,\n",
    "          0,   0],\n",
    "       [  0,   0,   0,   5, 185, 204, 184,   0, 202, 188, 182, 182, 183,\n",
    "        183, 184, 182, 180, 182, 174, 202,  63,  59, 220, 196,  94,   0,\n",
    "          0,   0],\n",
    "       [  0,   0,   0,   5, 184, 206, 157,   0, 204, 187, 187, 189, 192,\n",
    "        190, 190, 191, 190, 187, 183, 202,  78,  35, 222, 197,  95,   0,\n",
    "          0,   0],\n",
    "       [  0,   0,   0,   5, 183, 208, 127,   0, 197, 166, 153, 149, 149,\n",
    "        146, 148, 149, 150, 151, 158, 191,  90,   8, 223, 195,  99,   0,\n",
    "          0,   0],\n",
    "       [  0,   0,   0,   6, 184, 208, 114,   0, 204, 173, 161, 180, 176,\n",
    "        172, 173, 173, 174, 176, 162, 202, 115,   0, 229, 199, 105,   0,\n",
    "          0,   0],\n",
    "       [  0,   0,   0,   9, 178, 204, 115,   0, 121, 135, 114, 117, 114,\n",
    "        114, 117, 118, 119, 117, 113, 147,  63,   0, 225, 196, 107,   0,\n",
    "          0,   0],\n",
    "       [  0,   0,   0,  18, 180, 206, 131,   0,   0,   0,   0,   0,   0,\n",
    "          0,   0,   0,   0,   0,   0,   0,   0,   0, 224, 197, 123,   0,\n",
    "          0,   0],\n",
    "       [  0,   0,   0,   0, 141, 151,  76,   0,   1,   1,   0,   0,   0,\n",
    "          0,   0,   0,   0,   0,   0,   0,   0,   0, 133, 167,  73,   0,\n",
    "          0,   0]]"
   ]
  },
  {
   "cell_type": "code",
   "execution_count": 103,
   "id": "5edc232f",
   "metadata": {},
   "outputs": [
    {
     "data": {
      "image/png": "[encoded data removed]",
      "text/plain": [
       "<Figure size 640x480 with 1 Axes>"
      ]
     },
     "metadata": {},
     "output_type": "display_data"
    }
   ],
   "source": [
    "plt.imshow(y)\n",
    "plt.show()"
   ]
  },
  {
   "cell_type": "code",
   "execution_count": 104,
   "id": "f37d85ea",
   "metadata": {},
   "outputs": [],
   "source": [
    "y=np.array"
   ]
  },
  {
   "cell_type": "code",
   "execution_count": 105,
   "id": "82dc948b",
   "metadata": {},
   "outputs": [],
   "source": [
    "fashion=keras.datasets.fashion_mnist"
   ]
  },
  {
   "cell_type": "code",
   "execution_count": 106,
   "id": "4d7013f8",
   "metadata": {},
   "outputs": [
    {
     "data": {
      "text/plain": [
       "<module 'keras.datasets.fashion_mnist' from 'C:\\\\Users\\\\User\\\\anaconda3\\\\lib\\\\site-packages\\\\keras\\\\datasets\\\\fashion_mnist\\\\__init__.py'>"
      ]
     },
     "execution_count": 106,
     "metadata": {},
     "output_type": "execute_result"
    }
   ],
   "source": [
    "fashion"
   ]
  },
  {
   "cell_type": "code",
   "execution_count": 107,
   "id": "c7c2d4bf",
   "metadata": {},
   "outputs": [],
   "source": [
    "(X_train_full,y_train_full),(X_test,y_test)=fashion.load_data()"
   ]
  },
  {
   "cell_type": "code",
   "execution_count": 108,
   "id": "8855d0bc",
   "metadata": {},
   "outputs": [
    {
     "data": {
      "text/plain": [
       "array([[[0, 0, 0, ..., 0, 0, 0],\n",
       "        [0, 0, 0, ..., 0, 0, 0],\n",
       "        [0, 0, 0, ..., 0, 0, 0],\n",
       "        ...,\n",
       "        [0, 0, 0, ..., 0, 0, 0],\n",
       "        [0, 0, 0, ..., 0, 0, 0],\n",
       "        [0, 0, 0, ..., 0, 0, 0]],\n",
       "\n",
       "       [[0, 0, 0, ..., 0, 0, 0],\n",
       "        [0, 0, 0, ..., 0, 0, 0],\n",
       "        [0, 0, 0, ..., 0, 0, 0],\n",
       "        ...,\n",
       "        [0, 0, 0, ..., 0, 0, 0],\n",
       "        [0, 0, 0, ..., 0, 0, 0],\n",
       "        [0, 0, 0, ..., 0, 0, 0]],\n",
       "\n",
       "       [[0, 0, 0, ..., 0, 0, 0],\n",
       "        [0, 0, 0, ..., 0, 0, 0],\n",
       "        [0, 0, 0, ..., 0, 0, 0],\n",
       "        ...,\n",
       "        [0, 0, 0, ..., 0, 0, 0],\n",
       "        [0, 0, 0, ..., 0, 0, 0],\n",
       "        [0, 0, 0, ..., 0, 0, 0]],\n",
       "\n",
       "       ...,\n",
       "\n",
       "       [[0, 0, 0, ..., 0, 0, 0],\n",
       "        [0, 0, 0, ..., 0, 0, 0],\n",
       "        [0, 0, 0, ..., 0, 0, 0],\n",
       "        ...,\n",
       "        [0, 0, 0, ..., 0, 0, 0],\n",
       "        [0, 0, 0, ..., 0, 0, 0],\n",
       "        [0, 0, 0, ..., 0, 0, 0]],\n",
       "\n",
       "       [[0, 0, 0, ..., 0, 0, 0],\n",
       "        [0, 0, 0, ..., 0, 0, 0],\n",
       "        [0, 0, 0, ..., 0, 0, 0],\n",
       "        ...,\n",
       "        [0, 0, 0, ..., 0, 0, 0],\n",
       "        [0, 0, 0, ..., 0, 0, 0],\n",
       "        [0, 0, 0, ..., 0, 0, 0]],\n",
       "\n",
       "       [[0, 0, 0, ..., 0, 0, 0],\n",
       "        [0, 0, 0, ..., 0, 0, 0],\n",
       "        [0, 0, 0, ..., 0, 0, 0],\n",
       "        ...,\n",
       "        [0, 0, 0, ..., 0, 0, 0],\n",
       "        [0, 0, 0, ..., 0, 0, 0],\n",
       "        [0, 0, 0, ..., 0, 0, 0]]], dtype=uint8)"
      ]
     },
     "execution_count": 108,
     "metadata": {},
     "output_type": "execute_result"
    }
   ],
   "source": [
    "X_train_full"
   ]
  },
  {
   "cell_type": "code",
   "execution_count": 109,
   "id": "9b00c286",
   "metadata": {},
   "outputs": [
    {
     "data": {
      "text/plain": [
       "array([9, 0, 0, ..., 3, 0, 5], dtype=uint8)"
      ]
     },
     "execution_count": 109,
     "metadata": {},
     "output_type": "execute_result"
    }
   ],
   "source": [
    "y_train_full"
   ]
  },
  {
   "cell_type": "code",
   "execution_count": 110,
   "id": "6ecb93fa",
   "metadata": {},
   "outputs": [
    {
     "data": {
      "text/plain": [
       "<matplotlib.image.AxesImage at 0x1be3efd3760>"
      ]
     },
     "execution_count": 110,
     "metadata": {},
     "output_type": "execute_result"
    },
    {
     "data": {
      "image/png": "[encoded data removed]",
      "text/plain": [
       "<Figure size 640x480 with 1 Axes>"
      ]
     },
     "metadata": {},
     "output_type": "display_data"
    }
   ],
   "source": [
    "plt.imshow(X_train_full[1])"
   ]
  },
  {
   "cell_type": "code",
   "execution_count": 111,
   "id": "e6e9b857",
   "metadata": {},
   "outputs": [
    {
     "data": {
      "text/plain": [
       "0"
      ]
     },
     "execution_count": 111,
     "metadata": {},
     "output_type": "execute_result"
    }
   ],
   "source": [
    "y_train_full[1]"
   ]
  },
  {
   "cell_type": "code",
   "execution_count": 112,
   "id": "9ab7d8f5",
   "metadata": {},
   "outputs": [],
   "source": [
    "#Define class names for the labels\n",
    "class_names = ['T-shirt/top', 'Trouser', 'Pullover', 'Dress', 'Coat', 'Sandal', 'Shirt', 'Sneaker', 'Bag', 'Ankle boot']"
   ]
  },
  {
   "cell_type": "code",
   "execution_count": 113,
   "id": "de823cff",
   "metadata": {},
   "outputs": [
    {
     "data": {
      "text/plain": [
       "'T-shirt/top'"
      ]
     },
     "execution_count": 113,
     "metadata": {},
     "output_type": "execute_result"
    }
   ],
   "source": [
    "class_names[y_train_full[1]]"
   ]
  },
  {
   "cell_type": "code",
   "execution_count": 114,
   "id": "305321ce",
   "metadata": {},
   "outputs": [
    {
     "data": {
      "text/plain": [
       "(60000, 28, 28)"
      ]
     },
     "execution_count": 114,
     "metadata": {},
     "output_type": "execute_result"
    }
   ],
   "source": [
    "X_train_full.shape"
   ]
  },
  {
   "cell_type": "code",
   "execution_count": 115,
   "id": "c32f21cf",
   "metadata": {},
   "outputs": [],
   "source": [
    "a=X_train_full[1]"
   ]
  },
  {
   "cell_type": "code",
   "execution_count": 116,
   "id": "7fad4b98",
   "metadata": {},
   "outputs": [
    {
     "data": {
      "text/plain": [
       "<matplotlib.image.AxesImage at 0x1be401ce9a0>"
      ]
     },
     "execution_count": 116,
     "metadata": {},
     "output_type": "execute_result"
    },
    {
     "data": {
      "image/png": "[encoded data removed]",
      "text/plain": [
       "<Figure size 640x480 with 1 Axes>"
      ]
     },
     "metadata": {},
     "output_type": "display_data"
    }
   ],
   "source": [
    "plt.imshow(a)"
   ]
  },
  {
   "cell_type": "markdown",
   "id": "bacfcea3",
   "metadata": {},
   "source": [
    "Data Normalization"
   ]
  },
  {
   "cell_type": "code",
   "execution_count": 117,
   "id": "84a6d14e",
   "metadata": {},
   "outputs": [],
   "source": [
    "X_train_n=X_train_full/255.\n",
    "X_test_n=X_test/255.\n"
   ]
  },
  {
   "cell_type": "markdown",
   "id": "c6823fb9",
   "metadata": {},
   "source": [
    "Split the data into train/test datasets"
   ]
  },
  {
   "cell_type": "markdown",
   "id": "28c9bccd",
   "metadata": {},
   "source": [
    "In the earlier step of importing the data we had 60,000 datasets and 10,000 test datasets. Now we futher split the training data into:\n",
    "1. Training data - used for training the model\n",
    "2. Validation data - used for tuning the hyperparameters and evaluate the       models\n",
    "3. Test data - used to test the model after the model has gone through initial                vetting by the validation set"
   ]
  },
  {
   "cell_type": "code",
   "execution_count": 118,
   "id": "f321d3ab",
   "metadata": {},
   "outputs": [],
   "source": [
    "X_valid = X_train_n[:5000]\n",
    "X_train = X_train_n[5000:]"
   ]
  },
  {
   "cell_type": "code",
   "execution_count": 119,
   "id": "332667fc",
   "metadata": {},
   "outputs": [],
   "source": [
    "y_valid=y_train_full[:5000]\n",
    "y_train=y_train_full[5000:]\n",
    "X_test=X_test_n"
   ]
  },
  {
   "cell_type": "code",
   "execution_count": 120,
   "id": "8ab83c35",
   "metadata": {},
   "outputs": [
    {
     "data": {
      "text/plain": [
       "(5000, 28, 28)"
      ]
     },
     "execution_count": 120,
     "metadata": {},
     "output_type": "execute_result"
    }
   ],
   "source": [
    "X_valid.shape"
   ]
  },
  {
   "cell_type": "code",
   "execution_count": 121,
   "id": "60265494",
   "metadata": {},
   "outputs": [
    {
     "data": {
      "text/plain": [
       "(55000, 28, 28)"
      ]
     },
     "execution_count": 121,
     "metadata": {},
     "output_type": "execute_result"
    }
   ],
   "source": [
    "X_train.shape"
   ]
  },
  {
   "cell_type": "code",
   "execution_count": 122,
   "id": "a5436d90",
   "metadata": {},
   "outputs": [
    {
     "data": {
      "text/plain": [
       "(10000, 28, 28)"
      ]
     },
     "execution_count": 122,
     "metadata": {},
     "output_type": "execute_result"
    }
   ],
   "source": [
    "X_test.shape"
   ]
  },
  {
   "cell_type": "code",
   "execution_count": 123,
   "id": "66db007c",
   "metadata": {},
   "outputs": [
    {
     "data": {
      "text/plain": [
       "(10000,)"
      ]
     },
     "execution_count": 123,
     "metadata": {},
     "output_type": "execute_result"
    }
   ],
   "source": [
    "y_test.shape"
   ]
  },
  {
   "cell_type": "code",
   "execution_count": 124,
   "id": "eabd02e8",
   "metadata": {},
   "outputs": [],
   "source": [
    "np.random.seed(42)"
   ]
  },
  {
   "cell_type": "code",
   "execution_count": 125,
   "id": "c7608d83",
   "metadata": {},
   "outputs": [
    {
     "data": {
      "text/plain": [
       "numpy.ndarray"
      ]
     },
     "execution_count": 125,
     "metadata": {},
     "output_type": "execute_result"
    }
   ],
   "source": [
    "type(y_test)"
   ]
  },
  {
   "cell_type": "code",
   "execution_count": 126,
   "id": "a08b8397",
   "metadata": {},
   "outputs": [
    {
     "data": {
      "text/plain": [
       "{0, 1, 2, 3, 4, 5, 6, 7, 8, 9}"
      ]
     },
     "execution_count": 126,
     "metadata": {},
     "output_type": "execute_result"
    }
   ],
   "source": [
    "set(y_test)"
   ]
  },
  {
   "cell_type": "code",
   "execution_count": 127,
   "id": "714788eb",
   "metadata": {},
   "outputs": [
    {
     "data": {
      "text/plain": [
       "'2.14.0'"
      ]
     },
     "execution_count": 127,
     "metadata": {},
     "output_type": "execute_result"
    }
   ],
   "source": [
    "tf.__version__"
   ]
  },
  {
   "cell_type": "code",
   "execution_count": 128,
   "id": "529bb461",
   "metadata": {},
   "outputs": [],
   "source": [
    "tf.random.set_seed(42)"
   ]
  },
  {
   "cell_type": "markdown",
   "id": "6a34500f",
   "metadata": {},
   "source": [
    "Create the model architecture"
   ]
  },
  {
   "cell_type": "markdown",
   "id": "bf8d7f45",
   "metadata": {},
   "source": [
    "There are two APIs for defining a model in keras:\n",
    "1. Sequential model API\n",
    "2. Functional API"
   ]
  },
  {
   "cell_type": "markdown",
   "id": "7913d2fa",
   "metadata": {},
   "source": [
    "MODEL"
   ]
  },
  {
   "cell_type": "code",
   "execution_count": 131,
   "id": "5d1934be",
   "metadata": {},
   "outputs": [],
   "source": [
    "model=keras.models.Sequential()\n",
    "model.add(keras.layers.Flatten(input_shape=[28,28]))\n",
    "model.add(keras.layers.Dense(300,activation='ReLU'))\n",
    "model.add(keras.layers.Dense(100,activation='ReLU'))\n",
    "model.add(keras.layers.Dense(10,activation='softmax'))"
   ]
  },
  {
   "cell_type": "code",
   "execution_count": 132,
   "id": "998f3195",
   "metadata": {},
   "outputs": [
    {
     "name": "stdout",
     "output_type": "stream",
     "text": [
      "Model: \"sequential_1\"\n",
      "_________________________________________________________________\n",
      " Layer (type)                Output Shape              Param #   \n",
      "=================================================================\n",
      " flatten (Flatten)           (None, 784)               0         \n",
      "                                                                 \n",
      " dense (Dense)               (None, 300)               235500    \n",
      "                                                                 \n",
      " dense_1 (Dense)             (None, 100)               30100     \n",
      "                                                                 \n",
      " dense_2 (Dense)             (None, 10)                1010      \n",
      "                                                                 \n",
      "=================================================================\n",
      "Total params: 266610 (1.02 MB)\n",
      "Trainable params: 266610 (1.02 MB)\n",
      "Non-trainable params: 0 (0.00 Byte)\n",
      "_________________________________________________________________\n"
     ]
    }
   ],
   "source": [
    "model.summary()"
   ]
  },
  {
   "cell_type": "code",
   "execution_count": 140,
   "id": "162e5ca9",
   "metadata": {},
   "outputs": [
    {
     "name": "stdout",
     "output_type": "stream",
     "text": [
      "You must install pydot (`pip install pydot`) and install graphviz (see instructions at https://graphviz.gitlab.io/download/) for plot_model to work.\n"
     ]
    }
   ],
   "source": [
    "keras.utils.plot_model(model)"
   ]
  },
  {
   "cell_type": "code",
   "execution_count": 139,
   "id": "3a3e9c51",
   "metadata": {},
   "outputs": [
    {
     "name": "stdout",
     "output_type": "stream",
     "text": [
      "Requirement already satisfied: graphviz in c:\\users\\user\\anaconda3\\lib\\site-packages (0.20.1)\n"
     ]
    }
   ],
   "source": [
    "!pip install graphviz"
   ]
  },
  {
   "cell_type": "markdown",
   "id": "40091ba3",
   "metadata": {},
   "source": [
    "we can access the parameters using get_weight() method"
   ]
  },
  {
   "cell_type": "code",
   "execution_count": 141,
   "id": "d3525aa5",
   "metadata": {},
   "outputs": [],
   "source": [
    "w,b=model.layers[1].get_weights()\n"
   ]
  },
  {
   "cell_type": "code",
   "execution_count": 142,
   "id": "015d2a81",
   "metadata": {},
   "outputs": [
    {
     "data": {
      "text/plain": [
       "array([[-0.0189052 ,  0.03378396,  0.06142643, ..., -0.02540733,\n",
       "         0.06481849, -0.0680953 ],\n",
       "       [-0.04510752,  0.05850504,  0.05729966, ..., -0.04518656,\n",
       "        -0.05622265, -0.06626035],\n",
       "       [-0.05092834, -0.04043794, -0.03475415, ...,  0.00689688,\n",
       "        -0.04576072,  0.03048882],\n",
       "       ...,\n",
       "       [-0.07367805,  0.06422313, -0.04055517, ...,  0.00248154,\n",
       "        -0.0626523 , -0.02605833],\n",
       "       [ 0.01174898,  0.04572721, -0.07243475, ..., -0.0214694 ,\n",
       "         0.0633858 , -0.0208939 ],\n",
       "       [-0.02077901, -0.03709484, -0.03966395, ..., -0.04971745,\n",
       "         0.03580026,  0.04455215]], dtype=float32)"
      ]
     },
     "execution_count": 142,
     "metadata": {},
     "output_type": "execute_result"
    }
   ],
   "source": [
    "w"
   ]
  },
  {
   "cell_type": "code",
   "execution_count": 143,
   "id": "dea03cde",
   "metadata": {},
   "outputs": [
    {
     "data": {
      "text/plain": [
       "array([0., 0., 0., 0., 0., 0., 0., 0., 0., 0., 0., 0., 0., 0., 0., 0., 0.,\n",
       "       0., 0., 0., 0., 0., 0., 0., 0., 0., 0., 0., 0., 0., 0., 0., 0., 0.,\n",
       "       0., 0., 0., 0., 0., 0., 0., 0., 0., 0., 0., 0., 0., 0., 0., 0., 0.,\n",
       "       0., 0., 0., 0., 0., 0., 0., 0., 0., 0., 0., 0., 0., 0., 0., 0., 0.,\n",
       "       0., 0., 0., 0., 0., 0., 0., 0., 0., 0., 0., 0., 0., 0., 0., 0., 0.,\n",
       "       0., 0., 0., 0., 0., 0., 0., 0., 0., 0., 0., 0., 0., 0., 0., 0., 0.,\n",
       "       0., 0., 0., 0., 0., 0., 0., 0., 0., 0., 0., 0., 0., 0., 0., 0., 0.,\n",
       "       0., 0., 0., 0., 0., 0., 0., 0., 0., 0., 0., 0., 0., 0., 0., 0., 0.,\n",
       "       0., 0., 0., 0., 0., 0., 0., 0., 0., 0., 0., 0., 0., 0., 0., 0., 0.,\n",
       "       0., 0., 0., 0., 0., 0., 0., 0., 0., 0., 0., 0., 0., 0., 0., 0., 0.,\n",
       "       0., 0., 0., 0., 0., 0., 0., 0., 0., 0., 0., 0., 0., 0., 0., 0., 0.,\n",
       "       0., 0., 0., 0., 0., 0., 0., 0., 0., 0., 0., 0., 0., 0., 0., 0., 0.,\n",
       "       0., 0., 0., 0., 0., 0., 0., 0., 0., 0., 0., 0., 0., 0., 0., 0., 0.,\n",
       "       0., 0., 0., 0., 0., 0., 0., 0., 0., 0., 0., 0., 0., 0., 0., 0., 0.,\n",
       "       0., 0., 0., 0., 0., 0., 0., 0., 0., 0., 0., 0., 0., 0., 0., 0., 0.,\n",
       "       0., 0., 0., 0., 0., 0., 0., 0., 0., 0., 0., 0., 0., 0., 0., 0., 0.,\n",
       "       0., 0., 0., 0., 0., 0., 0., 0., 0., 0., 0., 0., 0., 0., 0., 0., 0.,\n",
       "       0., 0., 0., 0., 0., 0., 0., 0., 0., 0., 0.], dtype=float32)"
      ]
     },
     "execution_count": 143,
     "metadata": {},
     "output_type": "execute_result"
    }
   ],
   "source": [
    "b"
   ]
  },
  {
   "cell_type": "code",
   "execution_count": 144,
   "id": "5e7852d1",
   "metadata": {},
   "outputs": [
    {
     "data": {
      "text/plain": [
       "(784, 300)"
      ]
     },
     "execution_count": 144,
     "metadata": {},
     "output_type": "execute_result"
    }
   ],
   "source": [
    "w.shape"
   ]
  },
  {
   "cell_type": "code",
   "execution_count": 146,
   "id": "6647fd2d",
   "metadata": {},
   "outputs": [
    {
     "data": {
      "text/plain": [
       "(300,)"
      ]
     },
     "execution_count": 146,
     "metadata": {},
     "output_type": "execute_result"
    }
   ],
   "source": [
    "b.shape"
   ]
  },
  {
   "cell_type": "code",
   "execution_count": 147,
   "id": "277c100f",
   "metadata": {},
   "outputs": [],
   "source": [
    "model.compile(loss=\"sparse_categorical_crossentropy\",optimizer=\"sgd\",metrics=[\"accuracy\"])"
   ]
  },
  {
   "cell_type": "code",
   "execution_count": 148,
   "id": "5df1e0d8",
   "metadata": {},
   "outputs": [
    {
     "name": "stdout",
     "output_type": "stream",
     "text": [
      "Epoch 1/30\n",
      "1719/1719 [==============================] - 4s 2ms/step - loss: 0.7178 - accuracy: 0.7639 - val_loss: 0.5208 - val_accuracy: 0.8246\n",
      "Epoch 2/30\n",
      "1719/1719 [==============================] - 3s 2ms/step - loss: 0.4898 - accuracy: 0.8267 - val_loss: 0.4402 - val_accuracy: 0.8488\n",
      "Epoch 3/30\n",
      "1719/1719 [==============================] - 3s 2ms/step - loss: 0.4445 - accuracy: 0.8423 - val_loss: 0.5379 - val_accuracy: 0.7992\n",
      "Epoch 4/30\n",
      "1719/1719 [==============================] - 3s 2ms/step - loss: 0.4176 - accuracy: 0.8540 - val_loss: 0.3975 - val_accuracy: 0.8636\n",
      "Epoch 5/30\n",
      "1719/1719 [==============================] - 3s 2ms/step - loss: 0.3991 - accuracy: 0.8598 - val_loss: 0.3778 - val_accuracy: 0.8678\n",
      "Epoch 6/30\n",
      "1719/1719 [==============================] - 3s 2ms/step - loss: 0.3802 - accuracy: 0.8657 - val_loss: 0.3749 - val_accuracy: 0.8722\n",
      "Epoch 7/30\n",
      "1719/1719 [==============================] - 3s 2ms/step - loss: 0.3680 - accuracy: 0.8697 - val_loss: 0.3611 - val_accuracy: 0.8764\n",
      "Epoch 8/30\n",
      "1719/1719 [==============================] - 3s 2ms/step - loss: 0.3563 - accuracy: 0.8731 - val_loss: 0.3858 - val_accuracy: 0.8592\n",
      "Epoch 9/30\n",
      "1719/1719 [==============================] - 3s 2ms/step - loss: 0.3450 - accuracy: 0.8773 - val_loss: 0.3536 - val_accuracy: 0.8724\n",
      "Epoch 10/30\n",
      "1719/1719 [==============================] - 3s 2ms/step - loss: 0.3357 - accuracy: 0.8800 - val_loss: 0.3500 - val_accuracy: 0.8752\n",
      "Epoch 11/30\n",
      "1719/1719 [==============================] - 3s 2ms/step - loss: 0.3274 - accuracy: 0.8831 - val_loss: 0.3451 - val_accuracy: 0.8786\n",
      "Epoch 12/30\n",
      "1719/1719 [==============================] - 3s 2ms/step - loss: 0.3180 - accuracy: 0.8859 - val_loss: 0.3299 - val_accuracy: 0.8812\n",
      "Epoch 13/30\n",
      "1719/1719 [==============================] - 3s 2ms/step - loss: 0.3110 - accuracy: 0.8891 - val_loss: 0.3258 - val_accuracy: 0.8848\n",
      "Epoch 14/30\n",
      "1719/1719 [==============================] - 3s 2ms/step - loss: 0.3046 - accuracy: 0.8901 - val_loss: 0.3537 - val_accuracy: 0.8686\n",
      "Epoch 15/30\n",
      "1719/1719 [==============================] - 3s 2ms/step - loss: 0.2967 - accuracy: 0.8939 - val_loss: 0.3301 - val_accuracy: 0.8794\n",
      "Epoch 16/30\n",
      "1719/1719 [==============================] - 3s 2ms/step - loss: 0.2919 - accuracy: 0.8950 - val_loss: 0.3134 - val_accuracy: 0.8860\n",
      "Epoch 17/30\n",
      "1719/1719 [==============================] - 3s 2ms/step - loss: 0.2861 - accuracy: 0.8977 - val_loss: 0.3550 - val_accuracy: 0.8734\n",
      "Epoch 18/30\n",
      "1719/1719 [==============================] - 3s 2ms/step - loss: 0.2803 - accuracy: 0.8991 - val_loss: 0.3174 - val_accuracy: 0.8850\n",
      "Epoch 19/30\n",
      "1719/1719 [==============================] - 3s 2ms/step - loss: 0.2755 - accuracy: 0.9012 - val_loss: 0.3135 - val_accuracy: 0.8858\n",
      "Epoch 20/30\n",
      "1719/1719 [==============================] - 3s 2ms/step - loss: 0.2700 - accuracy: 0.9030 - val_loss: 0.3293 - val_accuracy: 0.8806\n",
      "Epoch 21/30\n",
      "1719/1719 [==============================] - 3s 2ms/step - loss: 0.2651 - accuracy: 0.9041 - val_loss: 0.3066 - val_accuracy: 0.8908\n",
      "Epoch 22/30\n",
      "1719/1719 [==============================] - 3s 2ms/step - loss: 0.2607 - accuracy: 0.9057 - val_loss: 0.2990 - val_accuracy: 0.8916\n",
      "Epoch 23/30\n",
      "1719/1719 [==============================] - 3s 2ms/step - loss: 0.2563 - accuracy: 0.9073 - val_loss: 0.3009 - val_accuracy: 0.8906\n",
      "Epoch 24/30\n",
      "1719/1719 [==============================] - 3s 2ms/step - loss: 0.2516 - accuracy: 0.9084 - val_loss: 0.3072 - val_accuracy: 0.8860\n",
      "Epoch 25/30\n",
      "1719/1719 [==============================] - 3s 2ms/step - loss: 0.2473 - accuracy: 0.9108 - val_loss: 0.3029 - val_accuracy: 0.8896\n",
      "Epoch 26/30\n",
      "1719/1719 [==============================] - 3s 2ms/step - loss: 0.2431 - accuracy: 0.9117 - val_loss: 0.3051 - val_accuracy: 0.8910\n",
      "Epoch 27/30\n",
      "1719/1719 [==============================] - 3s 2ms/step - loss: 0.2399 - accuracy: 0.9136 - val_loss: 0.2972 - val_accuracy: 0.8902\n",
      "Epoch 28/30\n",
      "1719/1719 [==============================] - 3s 2ms/step - loss: 0.2363 - accuracy: 0.9143 - val_loss: 0.2989 - val_accuracy: 0.8914\n",
      "Epoch 29/30\n",
      "1719/1719 [==============================] - 3s 2ms/step - loss: 0.2316 - accuracy: 0.9172 - val_loss: 0.3087 - val_accuracy: 0.8858\n",
      "Epoch 30/30\n",
      "1719/1719 [==============================] - 3s 2ms/step - loss: 0.2282 - accuracy: 0.9170 - val_loss: 0.3071 - val_accuracy: 0.8886\n"
     ]
    }
   ],
   "source": [
    "model_history=model.fit(X_train,y_train,epochs=30,validation_data=(X_valid,y_valid))"
   ]
  },
  {
   "cell_type": "code",
   "execution_count": 149,
   "id": "f1fb1a1a",
   "metadata": {},
   "outputs": [
    {
     "data": {
      "text/plain": [
       "{'verbose': 1, 'epochs': 30, 'steps': 1719}"
      ]
     },
     "execution_count": 149,
     "metadata": {},
     "output_type": "execute_result"
    }
   ],
   "source": [
    "model_history.params"
   ]
  },
  {
   "cell_type": "code",
   "execution_count": 150,
   "id": "a58926fb",
   "metadata": {},
   "outputs": [
    {
     "data": {
      "text/plain": [
       "{'loss': [0.7177959680557251,\n",
       "  0.48982518911361694,\n",
       "  0.44446685910224915,\n",
       "  0.4175683259963989,\n",
       "  0.3990625739097595,\n",
       "  0.38017791509628296,\n",
       "  0.36800244450569153,\n",
       "  0.35629788041114807,\n",
       "  0.3449540436267853,\n",
       "  0.3357005715370178,\n",
       "  0.32737475633621216,\n",
       "  0.3179517686367035,\n",
       "  0.31102311611175537,\n",
       "  0.30456292629241943,\n",
       "  0.29674917459487915,\n",
       "  0.2919031083583832,\n",
       "  0.2860851585865021,\n",
       "  0.28030824661254883,\n",
       "  0.2755144238471985,\n",
       "  0.2700482904911041,\n",
       "  0.2651282250881195,\n",
       "  0.26071611046791077,\n",
       "  0.2563057243824005,\n",
       "  0.25164783000946045,\n",
       "  0.24725651741027832,\n",
       "  0.24306705594062805,\n",
       "  0.23992396891117096,\n",
       "  0.23633450269699097,\n",
       "  0.2316453456878662,\n",
       "  0.22817037999629974],\n",
       " 'accuracy': [0.7638545632362366,\n",
       "  0.8267272710800171,\n",
       "  0.8422726988792419,\n",
       "  0.8539999723434448,\n",
       "  0.859818160533905,\n",
       "  0.8656908869743347,\n",
       "  0.8697272539138794,\n",
       "  0.873090922832489,\n",
       "  0.8772545456886292,\n",
       "  0.8799636363983154,\n",
       "  0.8830545544624329,\n",
       "  0.8858909010887146,\n",
       "  0.8891090750694275,\n",
       "  0.8901090621948242,\n",
       "  0.8938727378845215,\n",
       "  0.8949636220932007,\n",
       "  0.8976908922195435,\n",
       "  0.8990908861160278,\n",
       "  0.9011818170547485,\n",
       "  0.9030181765556335,\n",
       "  0.9041454792022705,\n",
       "  0.9056909084320068,\n",
       "  0.9073272943496704,\n",
       "  0.9084363579750061,\n",
       "  0.9108181595802307,\n",
       "  0.911654531955719,\n",
       "  0.9136000275611877,\n",
       "  0.9142909049987793,\n",
       "  0.9172182083129883,\n",
       "  0.9169818162918091],\n",
       " 'val_loss': [0.5208147168159485,\n",
       "  0.4402264654636383,\n",
       "  0.5379433035850525,\n",
       "  0.39749231934547424,\n",
       "  0.3778195083141327,\n",
       "  0.3748838007450104,\n",
       "  0.3610518276691437,\n",
       "  0.38580557703971863,\n",
       "  0.3535636365413666,\n",
       "  0.35000818967819214,\n",
       "  0.34513333439826965,\n",
       "  0.3299223482608795,\n",
       "  0.3258032202720642,\n",
       "  0.3536664843559265,\n",
       "  0.3301335275173187,\n",
       "  0.3134024441242218,\n",
       "  0.35498708486557007,\n",
       "  0.3174009621143341,\n",
       "  0.31349432468414307,\n",
       "  0.3293287456035614,\n",
       "  0.30655884742736816,\n",
       "  0.2989560663700104,\n",
       "  0.3008515536785126,\n",
       "  0.30718284845352173,\n",
       "  0.30285003781318665,\n",
       "  0.30508798360824585,\n",
       "  0.2971749007701874,\n",
       "  0.2989466190338135,\n",
       "  0.3086604177951813,\n",
       "  0.3070836067199707],\n",
       " 'val_accuracy': [0.8245999813079834,\n",
       "  0.848800003528595,\n",
       "  0.7991999983787537,\n",
       "  0.8636000156402588,\n",
       "  0.8677999973297119,\n",
       "  0.8722000122070312,\n",
       "  0.8763999938964844,\n",
       "  0.8592000007629395,\n",
       "  0.8723999857902527,\n",
       "  0.8751999735832214,\n",
       "  0.878600001335144,\n",
       "  0.8812000155448914,\n",
       "  0.8848000168800354,\n",
       "  0.8686000108718872,\n",
       "  0.8794000148773193,\n",
       "  0.8859999775886536,\n",
       "  0.8733999729156494,\n",
       "  0.8849999904632568,\n",
       "  0.8858000040054321,\n",
       "  0.8805999755859375,\n",
       "  0.8907999992370605,\n",
       "  0.8916000127792358,\n",
       "  0.8906000256538391,\n",
       "  0.8859999775886536,\n",
       "  0.8895999789237976,\n",
       "  0.890999972820282,\n",
       "  0.8902000188827515,\n",
       "  0.8913999795913696,\n",
       "  0.8858000040054321,\n",
       "  0.8885999917984009]}"
      ]
     },
     "execution_count": 150,
     "metadata": {},
     "output_type": "execute_result"
    }
   ],
   "source": [
    "model_history.history"
   ]
  },
  {
   "cell_type": "code",
   "execution_count": 151,
   "id": "0d336045",
   "metadata": {},
   "outputs": [
    {
     "data": {
      "text/plain": [
       "<function matplotlib.pyplot.show(close=None, block=None)>"
      ]
     },
     "execution_count": 151,
     "metadata": {},
     "output_type": "execute_result"
    },
    {
     "data": {
      "image/png": "[encoded data removed]",
      "text/plain": [
       "<Figure size 800x500 with 1 Axes>"
      ]
     },
     "metadata": {},
     "output_type": "display_data"
    }
   ],
   "source": [
    "pd.DataFrame(model_history.history).plot(figsize=(8,5))\n",
    "plt.grid(True)\n",
    "plt.gca().set_ylim(0,1)\n",
    "plt.show"
   ]
  },
  {
   "cell_type": "code",
   "execution_count": 152,
   "id": "65657b87",
   "metadata": {},
   "outputs": [
    {
     "name": "stdout",
     "output_type": "stream",
     "text": [
      "Epoch 1/10\n",
      "1719/1719 [==============================] - 3s 2ms/step - loss: 0.2238 - accuracy: 0.9188 - val_loss: 0.2894 - val_accuracy: 0.8942\n",
      "Epoch 2/10\n",
      "1719/1719 [==============================] - 3s 2ms/step - loss: 0.2204 - accuracy: 0.9204 - val_loss: 0.2899 - val_accuracy: 0.8938\n",
      "Epoch 3/10\n",
      "1719/1719 [==============================] - 3s 2ms/step - loss: 0.2167 - accuracy: 0.9219 - val_loss: 0.3607 - val_accuracy: 0.8690\n",
      "Epoch 4/10\n",
      "1719/1719 [==============================] - 3s 2ms/step - loss: 0.2133 - accuracy: 0.9233 - val_loss: 0.3028 - val_accuracy: 0.8892\n",
      "Epoch 5/10\n",
      "1719/1719 [==============================] - 3s 2ms/step - loss: 0.2121 - accuracy: 0.9242 - val_loss: 0.2812 - val_accuracy: 0.8950\n",
      "Epoch 6/10\n",
      "1719/1719 [==============================] - 3s 2ms/step - loss: 0.2062 - accuracy: 0.9257 - val_loss: 0.3062 - val_accuracy: 0.8906\n",
      "Epoch 7/10\n",
      "1719/1719 [==============================] - 3s 2ms/step - loss: 0.2036 - accuracy: 0.9271 - val_loss: 0.2971 - val_accuracy: 0.8934\n",
      "Epoch 8/10\n",
      "1719/1719 [==============================] - 3s 2ms/step - loss: 0.2011 - accuracy: 0.9286 - val_loss: 0.3011 - val_accuracy: 0.8856\n",
      "Epoch 9/10\n",
      "1719/1719 [==============================] - 3s 2ms/step - loss: 0.1971 - accuracy: 0.9293 - val_loss: 0.2962 - val_accuracy: 0.8884\n",
      "Epoch 10/10\n",
      "1719/1719 [==============================] - 3s 2ms/step - loss: 0.1946 - accuracy: 0.9299 - val_loss: 0.2900 - val_accuracy: 0.8940\n"
     ]
    }
   ],
   "source": [
    "model_history=model.fit(X_train,y_train,epochs=10,validation_data=(X_valid,y_valid))"
   ]
  },
  {
   "cell_type": "code",
   "execution_count": 153,
   "id": "64eee7e3",
   "metadata": {},
   "outputs": [
    {
     "data": {
      "text/plain": [
       "{'loss': [0.2238418608903885,\n",
       "  0.22042468190193176,\n",
       "  0.2166929692029953,\n",
       "  0.2132556289434433,\n",
       "  0.21212585270404816,\n",
       "  0.20623189210891724,\n",
       "  0.2036077231168747,\n",
       "  0.20109307765960693,\n",
       "  0.19706261157989502,\n",
       "  0.19456340372562408],\n",
       " 'accuracy': [0.9187999963760376,\n",
       "  0.9204363822937012,\n",
       "  0.921854555606842,\n",
       "  0.9232909083366394,\n",
       "  0.9241818189620972,\n",
       "  0.9256545305252075,\n",
       "  0.9271454811096191,\n",
       "  0.9286181926727295,\n",
       "  0.929309070110321,\n",
       "  0.9298545718193054],\n",
       " 'val_loss': [0.2893763780593872,\n",
       "  0.2899233102798462,\n",
       "  0.36067384481430054,\n",
       "  0.3027980923652649,\n",
       "  0.28116121888160706,\n",
       "  0.3061670958995819,\n",
       "  0.2971341907978058,\n",
       "  0.301090806722641,\n",
       "  0.29620012640953064,\n",
       "  0.2899770438671112],\n",
       " 'val_accuracy': [0.8942000269889832,\n",
       "  0.8938000202178955,\n",
       "  0.8690000176429749,\n",
       "  0.88919997215271,\n",
       "  0.8949999809265137,\n",
       "  0.8906000256538391,\n",
       "  0.8934000134468079,\n",
       "  0.8855999708175659,\n",
       "  0.8884000182151794,\n",
       "  0.8939999938011169]}"
      ]
     },
     "execution_count": 153,
     "metadata": {},
     "output_type": "execute_result"
    }
   ],
   "source": [
    "model_history.history"
   ]
  },
  {
   "cell_type": "code",
   "execution_count": 154,
   "id": "d997aee2",
   "metadata": {},
   "outputs": [
    {
     "data": {
      "text/plain": [
       "<function matplotlib.pyplot.show(close=None, block=None)>"
      ]
     },
     "execution_count": 154,
     "metadata": {},
     "output_type": "execute_result"
    },
    {
     "data": {
      "image/png": "[encoded data removed]",
      "text/plain": [
       "<Figure size 800x500 with 1 Axes>"
      ]
     },
     "metadata": {},
     "output_type": "display_data"
    }
   ],
   "source": [
    "pd.DataFrame(model_history.history).plot(figsize=(8,5))\n",
    "plt.grid(True)\n",
    "plt.gca().set_ylim(0,1)\n",
    "plt.show"
   ]
  },
  {
   "cell_type": "code",
   "execution_count": 155,
   "id": "17e458ba",
   "metadata": {},
   "outputs": [
    {
     "name": "stdout",
     "output_type": "stream",
     "text": [
      "Epoch 1/30\n",
      "1719/1719 [==============================] - 3s 2ms/step - loss: 0.1908 - accuracy: 0.9317 - val_loss: 0.2876 - val_accuracy: 0.8954\n",
      "Epoch 2/30\n",
      "1719/1719 [==============================] - 3s 2ms/step - loss: 0.1881 - accuracy: 0.9326 - val_loss: 0.2873 - val_accuracy: 0.8970\n",
      "Epoch 3/30\n",
      "1719/1719 [==============================] - 3s 2ms/step - loss: 0.1848 - accuracy: 0.9337 - val_loss: 0.3389 - val_accuracy: 0.8778\n",
      "Epoch 4/30\n",
      "1719/1719 [==============================] - 3s 2ms/step - loss: 0.1821 - accuracy: 0.9344 - val_loss: 0.3175 - val_accuracy: 0.8858\n",
      "Epoch 5/30\n",
      "1719/1719 [==============================] - 3s 2ms/step - loss: 0.1814 - accuracy: 0.9347 - val_loss: 0.2781 - val_accuracy: 0.8980\n",
      "Epoch 6/30\n",
      "1719/1719 [==============================] - 3s 2ms/step - loss: 0.1760 - accuracy: 0.9365 - val_loss: 0.3161 - val_accuracy: 0.8886\n",
      "Epoch 7/30\n",
      "1719/1719 [==============================] - 3s 2ms/step - loss: 0.1743 - accuracy: 0.9379 - val_loss: 0.3055 - val_accuracy: 0.8936\n",
      "Epoch 8/30\n",
      "1719/1719 [==============================] - 3s 2ms/step - loss: 0.1718 - accuracy: 0.9392 - val_loss: 0.3009 - val_accuracy: 0.8900\n",
      "Epoch 9/30\n",
      "1719/1719 [==============================] - 3s 2ms/step - loss: 0.1683 - accuracy: 0.9407 - val_loss: 0.2987 - val_accuracy: 0.8910\n",
      "Epoch 10/30\n",
      "1719/1719 [==============================] - 3s 2ms/step - loss: 0.1661 - accuracy: 0.9405 - val_loss: 0.2926 - val_accuracy: 0.8954\n",
      "Epoch 11/30\n",
      "1719/1719 [==============================] - 3s 2ms/step - loss: 0.1644 - accuracy: 0.9419 - val_loss: 0.2951 - val_accuracy: 0.8934\n",
      "Epoch 12/30\n",
      "1719/1719 [==============================] - 3s 2ms/step - loss: 0.1606 - accuracy: 0.9421 - val_loss: 0.2995 - val_accuracy: 0.8964\n",
      "Epoch 13/30\n",
      "1719/1719 [==============================] - 3s 2ms/step - loss: 0.1587 - accuracy: 0.9440 - val_loss: 0.3020 - val_accuracy: 0.8938\n",
      "Epoch 14/30\n",
      "1719/1719 [==============================] - 3s 2ms/step - loss: 0.1564 - accuracy: 0.9447 - val_loss: 0.3241 - val_accuracy: 0.8846\n",
      "Epoch 15/30\n",
      "1719/1719 [==============================] - 3s 2ms/step - loss: 0.1531 - accuracy: 0.9457 - val_loss: 0.3034 - val_accuracy: 0.8964\n",
      "Epoch 16/30\n",
      "1719/1719 [==============================] - 3s 1ms/step - loss: 0.1524 - accuracy: 0.9461 - val_loss: 0.3023 - val_accuracy: 0.8920\n",
      "Epoch 17/30\n",
      "1719/1719 [==============================] - 3s 1ms/step - loss: 0.1490 - accuracy: 0.9468 - val_loss: 0.3492 - val_accuracy: 0.8840\n",
      "Epoch 18/30\n",
      "1719/1719 [==============================] - 3s 1ms/step - loss: 0.1474 - accuracy: 0.9476 - val_loss: 0.3005 - val_accuracy: 0.8980\n",
      "Epoch 19/30\n",
      "1719/1719 [==============================] - 3s 1ms/step - loss: 0.1445 - accuracy: 0.9496 - val_loss: 0.2984 - val_accuracy: 0.8948\n",
      "Epoch 20/30\n",
      "1719/1719 [==============================] - 3s 1ms/step - loss: 0.1411 - accuracy: 0.9505 - val_loss: 0.3329 - val_accuracy: 0.8874\n",
      "Epoch 21/30\n",
      "1719/1719 [==============================] - 3s 2ms/step - loss: 0.1393 - accuracy: 0.9511 - val_loss: 0.3126 - val_accuracy: 0.8924\n",
      "Epoch 22/30\n",
      "1719/1719 [==============================] - 3s 1ms/step - loss: 0.1377 - accuracy: 0.9517 - val_loss: 0.3049 - val_accuracy: 0.9000\n",
      "Epoch 23/30\n",
      "1719/1719 [==============================] - 3s 1ms/step - loss: 0.1356 - accuracy: 0.9523 - val_loss: 0.3067 - val_accuracy: 0.8980\n",
      "Epoch 24/30\n",
      "1719/1719 [==============================] - 3s 2ms/step - loss: 0.1334 - accuracy: 0.9528 - val_loss: 0.3181 - val_accuracy: 0.8932\n",
      "Epoch 25/30\n",
      "1719/1719 [==============================] - 3s 2ms/step - loss: 0.1309 - accuracy: 0.9536 - val_loss: 0.3055 - val_accuracy: 0.8988\n",
      "Epoch 26/30\n",
      "1719/1719 [==============================] - 3s 2ms/step - loss: 0.1292 - accuracy: 0.9542 - val_loss: 0.3161 - val_accuracy: 0.8946\n",
      "Epoch 27/30\n",
      "1719/1719 [==============================] - 3s 2ms/step - loss: 0.1280 - accuracy: 0.9555 - val_loss: 0.3231 - val_accuracy: 0.8958\n",
      "Epoch 28/30\n",
      "1719/1719 [==============================] - 3s 2ms/step - loss: 0.1261 - accuracy: 0.9555 - val_loss: 0.3101 - val_accuracy: 0.8968\n",
      "Epoch 29/30\n",
      "1719/1719 [==============================] - 3s 2ms/step - loss: 0.1232 - accuracy: 0.9570 - val_loss: 0.3231 - val_accuracy: 0.8950\n",
      "Epoch 30/30\n",
      "1719/1719 [==============================] - 3s 2ms/step - loss: 0.1211 - accuracy: 0.9572 - val_loss: 0.3378 - val_accuracy: 0.8924\n"
     ]
    }
   ],
   "source": [
    "model_history = model.fit(X_train,y_train,validation_data=(X_valid,y_valid),epochs = 30 )"
   ]
  },
  {
   "cell_type": "code",
   "execution_count": 156,
   "id": "85623694",
   "metadata": {},
   "outputs": [
    {
     "data": {
      "image/png": "[encoded data removed]",
      "text/plain": [
       "<Figure size 800x500 with 1 Axes>"
      ]
     },
     "metadata": {},
     "output_type": "display_data"
    }
   ],
   "source": [
    "pd.DataFrame(model_history.history).plot(figsize = (8,5))\n",
    "plt.grid(True)\n",
    "plt.gca().set_ylim(0,1)\n",
    "plt.show()"
   ]
  },
  {
   "cell_type": "code",
   "execution_count": 157,
   "id": "72fd257d",
   "metadata": {},
   "outputs": [
    {
     "name": "stdout",
     "output_type": "stream",
     "text": [
      "313/313 [==============================] - 0s 1ms/step - loss: 0.3794 - accuracy: 0.8834\n"
     ]
    },
    {
     "data": {
      "text/plain": [
       "[0.37944090366363525, 0.883400022983551]"
      ]
     },
     "execution_count": 157,
     "metadata": {},
     "output_type": "execute_result"
    }
   ],
   "source": [
    "model.evaluate(X_test,y_test)"
   ]
  },
  {
   "cell_type": "code",
   "execution_count": 158,
   "id": "3f75f05e",
   "metadata": {},
   "outputs": [],
   "source": [
    "X_new=X_test[:3]"
   ]
  },
  {
   "cell_type": "code",
   "execution_count": 159,
   "id": "5b882e73",
   "metadata": {},
   "outputs": [
    {
     "name": "stdout",
     "output_type": "stream",
     "text": [
      "1/1 [==============================] - 0s 67ms/step\n"
     ]
    },
    {
     "data": {
      "text/plain": [
       "array([[0., 0., 0., 0., 0., 0., 0., 0., 0., 1.],\n",
       "       [0., 0., 1., 0., 0., 0., 0., 0., 0., 0.],\n",
       "       [0., 1., 0., 0., 0., 0., 0., 0., 0., 0.]], dtype=float32)"
      ]
     },
     "execution_count": 159,
     "metadata": {},
     "output_type": "execute_result"
    }
   ],
   "source": [
    "y_proba=model.predict(X_new)\n",
    "y_proba.round(2)"
   ]
  },
  {
   "cell_type": "code",
   "execution_count": 165,
   "id": "0a0d9260",
   "metadata": {},
   "outputs": [
    {
     "data": {
      "text/plain": [
       "array([9, 2, 1], dtype=int64)"
      ]
     },
     "execution_count": 165,
     "metadata": {},
     "output_type": "execute_result"
    }
   ],
   "source": [
    "np.argmax(y_proba,axis=-1)\n"
   ]
  },
  {
   "cell_type": "code",
   "execution_count": 166,
   "id": "e28c67d7",
   "metadata": {},
   "outputs": [
    {
     "data": {
      "text/plain": [
       "'Ankle boot'"
      ]
     },
     "execution_count": 166,
     "metadata": {},
     "output_type": "execute_result"
    }
   ],
   "source": [
    "class_names[9]"
   ]
  },
  {
   "cell_type": "code",
   "execution_count": 167,
   "id": "9fe6ca57",
   "metadata": {},
   "outputs": [
    {
     "data": {
      "text/plain": [
       "'Pullover'"
      ]
     },
     "execution_count": 167,
     "metadata": {},
     "output_type": "execute_result"
    }
   ],
   "source": [
    "class_names[2]"
   ]
  },
  {
   "cell_type": "code",
   "execution_count": 168,
   "id": "30a1c69c",
   "metadata": {},
   "outputs": [
    {
     "data": {
      "text/plain": [
       "'Trouser'"
      ]
     },
     "execution_count": 168,
     "metadata": {},
     "output_type": "execute_result"
    }
   ],
   "source": [
    "class_names[1]"
   ]
  },
  {
   "cell_type": "code",
   "execution_count": 169,
   "id": "cead9bda",
   "metadata": {},
   "outputs": [
    {
     "data": {
      "text/plain": [
       "<matplotlib.image.AxesImage at 0x1be42fab700>"
      ]
     },
     "execution_count": 169,
     "metadata": {},
     "output_type": "execute_result"
    },
    {
     "data": {
      "image/png": "[encoded data removed]",
      "text/plain": [
       "<Figure size 640x480 with 1 Axes>"
      ]
     },
     "metadata": {},
     "output_type": "display_data"
    }
   ],
   "source": [
    "plt.imshow(X_test[0])"
   ]
  },
  {
   "cell_type": "code",
   "execution_count": 170,
   "id": "846dc29b",
   "metadata": {},
   "outputs": [
    {
     "data": {
      "text/plain": [
       "<matplotlib.image.AxesImage at 0x1be42ec5bb0>"
      ]
     },
     "execution_count": 170,
     "metadata": {},
     "output_type": "execute_result"
    },
    {
     "data": {
      "image/png": "[encoded data removed]",
      "text/plain": [
       "<Figure size 640x480 with 1 Axes>"
      ]
     },
     "metadata": {},
     "output_type": "display_data"
    }
   ],
   "source": [
    "plt.imshow(X_test[1])"
   ]
  },
  {
   "cell_type": "code",
   "execution_count": 171,
   "id": "41d6b368",
   "metadata": {},
   "outputs": [
    {
     "data": {
      "text/plain": [
       "<matplotlib.image.AxesImage at 0x1be43525610>"
      ]
     },
     "execution_count": 171,
     "metadata": {},
     "output_type": "execute_result"
    },
    {
     "data": {
      "image/png": "[encoded data removed]",
      "text/plain": [
       "<Figure size 640x480 with 1 Axes>"
      ]
     },
     "metadata": {},
     "output_type": "display_data"
    }
   ],
   "source": [
    "plt.imshow(X_test[2])"
   ]
  },
  {
   "cell_type": "code",
   "execution_count": null,
   "id": "9fa24300",
   "metadata": {},
   "outputs": [],
   "source": []
  }
 ],
 "metadata": {
  "kernelspec": {
   "display_name": "Python 3 (ipykernel)",
   "language": "python",
   "name": "python3"
  },
  "language_info": {
   "codemirror_mode": {
    "name": "ipython",
    "version": 3
   },
   "file_extension": ".py",
   "mimetype": "text/x-python",
   "name": "python",
   "nbconvert_exporter": "python",
   "pygments_lexer": "ipython3",
   "version": "3.9.13"
  }
 },
 "nbformat": 4,
 "nbformat_minor": 5
}
