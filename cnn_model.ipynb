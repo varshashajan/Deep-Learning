{
 "cells": [
  {
   "cell_type": "code",
   "execution_count": 1,
   "id": "71cbe041",
   "metadata": {},
   "outputs": [],
   "source": [
    "import numpy as np\n",
    "import pandas as pd\n",
    "import matplotlib.pyplot as plt"
   ]
  },
  {
   "cell_type": "code",
   "execution_count": 2,
   "id": "a3cae137",
   "metadata": {},
   "outputs": [
    {
     "name": "stderr",
     "output_type": "stream",
     "text": [
      "C:\\Users\\User\\anaconda3\\lib\\site-packages\\scipy\\__init__.py:155: UserWarning: A NumPy version >=1.18.5 and <1.25.0 is required for this version of SciPy (detected version 1.26.0\n",
      "  warnings.warn(f\"A NumPy version >={np_minversion} and <{np_maxversion}\"\n"
     ]
    }
   ],
   "source": [
    "import tensorflow as tf\n",
    "from tensorflow import keras"
   ]
  },
  {
   "cell_type": "code",
   "execution_count": 3,
   "id": "1135080c",
   "metadata": {},
   "outputs": [],
   "source": [
    "fashion_mnist=keras.datasets.fashion_mnist"
   ]
  },
  {
   "cell_type": "code",
   "execution_count": 4,
   "id": "695f8912",
   "metadata": {},
   "outputs": [],
   "source": [
    "(X_train_full,y_train_full),(X_test,y_test)=fashion_mnist.load_data()"
   ]
  },
  {
   "cell_type": "code",
   "execution_count": 5,
   "id": "cc9ee1cc",
   "metadata": {},
   "outputs": [],
   "source": [
    "class_names = ['T-shirt/top', 'Trouser', 'Pullover', 'Dress', 'Coat', 'Sandal', 'Shirt', 'Sneaker', 'Bag', 'Ankle boot']"
   ]
  },
  {
   "cell_type": "markdown",
   "id": "42bf56f6",
   "metadata": {},
   "source": [
    "Data reshape"
   ]
  },
  {
   "cell_type": "code",
   "execution_count": 6,
   "id": "a78771ae",
   "metadata": {},
   "outputs": [],
   "source": [
    "X_train_full=X_train_full.reshape((60000,28,28,1))\n",
    "X_test=X_test.reshape((10000,28,28,1))\n",
    "#adding another channel to make four dimension for cnn"
   ]
  },
  {
   "cell_type": "markdown",
   "id": "647ff996",
   "metadata": {},
   "source": [
    "Data Normalization\n",
    "\n"
   ]
  },
  {
   "cell_type": "markdown",
   "id": "a5b65c8c",
   "metadata": {},
   "source": [
    "we then normalize the data dimension so that they are of approximately same scale"
   ]
  },
  {
   "cell_type": "code",
   "execution_count": 7,
   "id": "e63c1c42",
   "metadata": {},
   "outputs": [],
   "source": [
    "X_train_n=X_train_full/255.\n",
    "X_test_n=X_test/255."
   ]
  },
  {
   "cell_type": "markdown",
   "id": "c295acaa",
   "metadata": {},
   "source": [
    "Splitting the data"
   ]
  },
  {
   "cell_type": "code",
   "execution_count": 8,
   "id": "2d7cb98b",
   "metadata": {},
   "outputs": [],
   "source": [
    "X_valid,X_train=X_train_n[:5000],X_train_n[5000:]\n",
    "y_valid,y_train=y_train_full[:5000],y_train_full[5000:]\n",
    "X_test=X_test_n"
   ]
  },
  {
   "cell_type": "markdown",
   "id": "1fca062c",
   "metadata": {},
   "source": [
    "Create The Model Architecture"
   ]
  },
  {
   "cell_type": "code",
   "execution_count": 9,
   "id": "45a2d61a",
   "metadata": {},
   "outputs": [],
   "source": [
    "np.random.seed(42)\n",
    "tf.random.set_seed(42)"
   ]
  },
  {
   "cell_type": "code",
   "execution_count": 10,
   "id": "00eadb39",
   "metadata": {},
   "outputs": [],
   "source": [
    "model=keras.models.Sequential()\n",
    "model.add(keras.layers.Conv2D(filters=32,kernel_size=(3,3),strides=1,padding='valid',activation='ReLU',input_shape=(28,28,1)))\n",
    "model.add(keras.layers.MaxPooling2D((2,2)))\n",
    "\n",
    "model.add(keras.layers.Flatten())\n",
    "model.add(keras.layers.Dense(300,activation='ReLU'))\n",
    "model.add(keras.layers.Dense(100,activation='ReLU'))\n",
    "model.add(keras.layers.Dense(10,activation='softmax'))"
   ]
  },
  {
   "cell_type": "code",
   "execution_count": 11,
   "id": "492bf07b",
   "metadata": {},
   "outputs": [
    {
     "name": "stdout",
     "output_type": "stream",
     "text": [
      "Model: \"sequential\"\n",
      "_________________________________________________________________\n",
      " Layer (type)                Output Shape              Param #   \n",
      "=================================================================\n",
      " conv2d (Conv2D)             (None, 26, 26, 32)        320       \n",
      "                                                                 \n",
      " max_pooling2d (MaxPooling2  (None, 13, 13, 32)        0         \n",
      " D)                                                              \n",
      "                                                                 \n",
      " flatten (Flatten)           (None, 5408)              0         \n",
      "                                                                 \n",
      " dense (Dense)               (None, 300)               1622700   \n",
      "                                                                 \n",
      " dense_1 (Dense)             (None, 100)               30100     \n",
      "                                                                 \n",
      " dense_2 (Dense)             (None, 10)                1010      \n",
      "                                                                 \n",
      "=================================================================\n",
      "Total params: 1654130 (6.31 MB)\n",
      "Trainable params: 1654130 (6.31 MB)\n",
      "Non-trainable params: 0 (0.00 Byte)\n",
      "_________________________________________________________________\n"
     ]
    }
   ],
   "source": [
    "model.summary()"
   ]
  },
  {
   "cell_type": "code",
   "execution_count": 12,
   "id": "b2a095b9",
   "metadata": {},
   "outputs": [],
   "source": [
    "model.compile(loss=\"sparse_categorical_crossentropy\",optimizer=\"sgd\",metrics=[\"accuracy\"])"
   ]
  },
  {
   "cell_type": "code",
   "execution_count": 13,
   "id": "479aac0a",
   "metadata": {},
   "outputs": [
    {
     "name": "stdout",
     "output_type": "stream",
     "text": [
      "Epoch 1/10\n",
      "860/860 [==============================] - 19s 21ms/step - loss: 0.8719 - accuracy: 0.7034 - val_loss: 0.8239 - val_accuracy: 0.7046\n",
      "Epoch 2/10\n",
      "860/860 [==============================] - 17s 20ms/step - loss: 0.5545 - accuracy: 0.7987 - val_loss: 0.4956 - val_accuracy: 0.8154\n",
      "Epoch 3/10\n",
      "860/860 [==============================] - 17s 20ms/step - loss: 0.4937 - accuracy: 0.8213 - val_loss: 1.0059 - val_accuracy: 0.6880\n",
      "Epoch 4/10\n",
      "860/860 [==============================] - 17s 20ms/step - loss: 0.4550 - accuracy: 0.8385 - val_loss: 0.4208 - val_accuracy: 0.8558\n",
      "Epoch 5/10\n",
      "860/860 [==============================] - 17s 20ms/step - loss: 0.4289 - accuracy: 0.8464 - val_loss: 0.4265 - val_accuracy: 0.8492\n",
      "Epoch 6/10\n",
      "860/860 [==============================] - 18s 21ms/step - loss: 0.4040 - accuracy: 0.8553 - val_loss: 0.3824 - val_accuracy: 0.8682\n",
      "Epoch 7/10\n",
      "860/860 [==============================] - 17s 20ms/step - loss: 0.3862 - accuracy: 0.8624 - val_loss: 0.3997 - val_accuracy: 0.8544\n",
      "Epoch 8/10\n",
      "860/860 [==============================] - 18s 20ms/step - loss: 0.3713 - accuracy: 0.8666 - val_loss: 0.5277 - val_accuracy: 0.8038\n",
      "Epoch 9/10\n",
      "860/860 [==============================] - 17s 20ms/step - loss: 0.3575 - accuracy: 0.8706 - val_loss: 0.3760 - val_accuracy: 0.8660\n",
      "Epoch 10/10\n",
      "860/860 [==============================] - 17s 20ms/step - loss: 0.3449 - accuracy: 0.8755 - val_loss: 0.3836 - val_accuracy: 0.8594\n"
     ]
    }
   ],
   "source": [
    "model_history=model.fit(X_train,y_train,epochs=10,batch_size=64,validation_data=(X_valid,y_valid))"
   ]
  },
  {
   "cell_type": "code",
   "execution_count": 14,
   "id": "088e5b95",
   "metadata": {},
   "outputs": [
    {
     "data": {
      "image/png": "[encoded data removed]",
      "text/plain": [
       "<Figure size 800x500 with 1 Axes>"
      ]
     },
     "metadata": {},
     "output_type": "display_data"
    }
   ],
   "source": [
    "pd.DataFrame(model_history.history).plot(figsize=(8,5))\n",
    "plt.grid(True)\n",
    "plt.gca().set_ylim(0,1)\n",
    "plt.show()"
   ]
  },
  {
   "cell_type": "code",
   "execution_count": 15,
   "id": "1d6de147",
   "metadata": {},
   "outputs": [
    {
     "name": "stdout",
     "output_type": "stream",
     "text": [
      "313/313 [==============================] - 1s 3ms/step - loss: 0.4169 - accuracy: 0.8436\n"
     ]
    }
   ],
   "source": [
    "ev=model.evaluate(X_test,y_test)"
   ]
  },
  {
   "cell_type": "code",
   "execution_count": 16,
   "id": "4c2fa7b0",
   "metadata": {},
   "outputs": [],
   "source": [
    "X_new=X_test[:3]"
   ]
  },
  {
   "cell_type": "code",
   "execution_count": 17,
   "id": "99e63bbe",
   "metadata": {},
   "outputs": [
    {
     "name": "stdout",
     "output_type": "stream",
     "text": [
      "1/1 [==============================] - 0s 63ms/step\n"
     ]
    },
    {
     "data": {
      "text/plain": [
       "array([[8.6759064e-05, 1.2665448e-05, 5.2321888e-05, 3.8815859e-05,\n",
       "        1.9012625e-06, 1.5041459e-02, 1.1873846e-04, 3.8320456e-02,\n",
       "        2.6753957e-03, 9.4365150e-01],\n",
       "       [1.4036921e-04, 6.3742544e-07, 9.7919339e-01, 3.3748936e-05,\n",
       "        9.5904048e-04, 1.2557223e-08, 1.9668384e-02, 2.6133002e-11,\n",
       "        4.3412688e-06, 4.6471545e-08],\n",
       "       [5.3802141e-06, 9.9997771e-01, 2.2359077e-07, 7.3378801e-06,\n",
       "        7.4541672e-06, 5.5035015e-10, 1.4550878e-06, 6.3651761e-08,\n",
       "        3.5004996e-07, 3.7817638e-09]], dtype=float32)"
      ]
     },
     "execution_count": 17,
     "metadata": {},
     "output_type": "execute_result"
    }
   ],
   "source": [
    "y_pred=model.predict(X_new)\n",
    "y_pred"
   ]
  },
  {
   "cell_type": "code",
   "execution_count": 18,
   "id": "9398ce98",
   "metadata": {},
   "outputs": [
    {
     "data": {
      "text/plain": [
       "array([9, 2, 1], dtype=int64)"
      ]
     },
     "execution_count": 18,
     "metadata": {},
     "output_type": "execute_result"
    }
   ],
   "source": [
    "np.argmax(y_pred,axis=-1)"
   ]
  },
  {
   "cell_type": "code",
   "execution_count": 19,
   "id": "da0fa9f1",
   "metadata": {},
   "outputs": [
    {
     "data": {
      "text/plain": [
       "array([9, 2, 1], dtype=uint8)"
      ]
     },
     "execution_count": 19,
     "metadata": {},
     "output_type": "execute_result"
    }
   ],
   "source": [
    "y_test[:3]"
   ]
  },
  {
   "cell_type": "code",
   "execution_count": 20,
   "id": "3123ebb2",
   "metadata": {},
   "outputs": [
    {
     "name": "stdout",
     "output_type": "stream",
     "text": [
      "AxesImage(80,52.8;496x369.6)\n"
     ]
    },
    {
     "data": {
      "image/png": "[encoded data removed]",
      "text/plain": [
       "<Figure size 640x480 with 1 Axes>"
      ]
     },
     "metadata": {},
     "output_type": "display_data"
    }
   ],
   "source": [
    "print(plt.imshow(X_test[0].reshape((28,28))))"
   ]
  },
  {
   "cell_type": "code",
   "execution_count": 21,
   "id": "6ad6fafc",
   "metadata": {},
   "outputs": [],
   "source": [
    "del model"
   ]
  },
  {
   "cell_type": "code",
   "execution_count": 22,
   "id": "3f0a4d74",
   "metadata": {},
   "outputs": [
    {
     "data": {
      "text/plain": [
       "<function keras.src.backend.clear_session()>"
      ]
     },
     "execution_count": 22,
     "metadata": {},
     "output_type": "execute_result"
    }
   ],
   "source": [
    "keras.backend.clear_session"
   ]
  },
  {
   "cell_type": "markdown",
   "id": "18fd6930",
   "metadata": {},
   "source": [
    "# POOLING vs NO POOLING"
   ]
  },
  {
   "cell_type": "code",
   "execution_count": 23,
   "id": "617b3772",
   "metadata": {},
   "outputs": [],
   "source": [
    "model_a=keras.models.Sequential()\n",
    "model_a.add(keras.layers.Conv2D(filters=32,kernel_size=(3,3),strides=1,padding='valid',activation='ReLU',input_shape=(28,28,1)))\n",
    "model_a.add(keras.layers.MaxPooling2D((2,2)))\n",
    "model_a.add(keras.layers.Flatten())\n",
    "model_a.add(keras.layers.Dense(300,activation='ReLU'))\n",
    "model_a.add(keras.layers.Dense(100,activation='ReLU'))\n",
    "model_a.add(keras.layers.Dense(10,activation='softmax'))\n",
    "\n",
    "\n",
    "model_b=keras.models.Sequential()\n",
    "model_b.add(keras.layers.Conv2D(filters=32,kernel_size=(3,3),strides=1,padding='valid',activation='ReLU',input_shape=(28,28,1)))\n",
    "model_b.add(keras.layers.Flatten())\n",
    "model_b.add(keras.layers.Dense(300,activation='ReLU'))\n",
    "model_b.add(keras.layers.Dense(100,activation='ReLU'))\n",
    "model_b.add(keras.layers.Dense(10,activation='softmax'))"
   ]
  },
  {
   "cell_type": "code",
   "execution_count": 24,
   "id": "501f6b6d",
   "metadata": {},
   "outputs": [],
   "source": [
    "model_a.compile(loss=\"sparse_categorical_crossentropy\",optimizer=\"sgd\",metrics=[\"accuracy\"])\n",
    "model_b.compile(loss=\"sparse_categorical_crossentropy\",optimizer=\"sgd\",metrics=[\"accuracy\"])"
   ]
  },
  {
   "cell_type": "code",
   "execution_count": 25,
   "id": "ee680555",
   "metadata": {},
   "outputs": [
    {
     "name": "stdout",
     "output_type": "stream",
     "text": [
      "Model: \"sequential_1\"\n",
      "_________________________________________________________________\n",
      " Layer (type)                Output Shape              Param #   \n",
      "=================================================================\n",
      " conv2d_1 (Conv2D)           (None, 26, 26, 32)        320       \n",
      "                                                                 \n",
      " max_pooling2d_1 (MaxPoolin  (None, 13, 13, 32)        0         \n",
      " g2D)                                                            \n",
      "                                                                 \n",
      " flatten_1 (Flatten)         (None, 5408)              0         \n",
      "                                                                 \n",
      " dense_3 (Dense)             (None, 300)               1622700   \n",
      "                                                                 \n",
      " dense_4 (Dense)             (None, 100)               30100     \n",
      "                                                                 \n",
      " dense_5 (Dense)             (None, 10)                1010      \n",
      "                                                                 \n",
      "=================================================================\n",
      "Total params: 1654130 (6.31 MB)\n",
      "Trainable params: 1654130 (6.31 MB)\n",
      "Non-trainable params: 0 (0.00 Byte)\n",
      "_________________________________________________________________\n"
     ]
    }
   ],
   "source": [
    "model_a.summary()"
   ]
  },
  {
   "cell_type": "code",
   "execution_count": 26,
   "id": "06042200",
   "metadata": {},
   "outputs": [
    {
     "name": "stdout",
     "output_type": "stream",
     "text": [
      "Model: \"sequential_2\"\n",
      "_________________________________________________________________\n",
      " Layer (type)                Output Shape              Param #   \n",
      "=================================================================\n",
      " conv2d_2 (Conv2D)           (None, 26, 26, 32)        320       \n",
      "                                                                 \n",
      " flatten_2 (Flatten)         (None, 21632)             0         \n",
      "                                                                 \n",
      " dense_6 (Dense)             (None, 300)               6489900   \n",
      "                                                                 \n",
      " dense_7 (Dense)             (None, 100)               30100     \n",
      "                                                                 \n",
      " dense_8 (Dense)             (None, 10)                1010      \n",
      "                                                                 \n",
      "=================================================================\n",
      "Total params: 6521330 (24.88 MB)\n",
      "Trainable params: 6521330 (24.88 MB)\n",
      "Non-trainable params: 0 (0.00 Byte)\n",
      "_________________________________________________________________\n"
     ]
    }
   ],
   "source": [
    "model_b.summary()"
   ]
  },
  {
   "cell_type": "code",
   "execution_count": 27,
   "id": "d326bf77",
   "metadata": {},
   "outputs": [
    {
     "name": "stdout",
     "output_type": "stream",
     "text": [
      "Epoch 1/3\n",
      "860/860 [==============================] - 17s 20ms/step - loss: 0.8857 - accuracy: 0.6926 - val_loss: 0.7588 - val_accuracy: 0.7276\n",
      "Epoch 2/3\n",
      "860/860 [==============================] - 17s 20ms/step - loss: 0.5358 - accuracy: 0.8058 - val_loss: 0.4907 - val_accuracy: 0.8146\n",
      "Epoch 3/3\n",
      "860/860 [==============================] - 17s 20ms/step - loss: 0.4768 - accuracy: 0.8279 - val_loss: 0.9134 - val_accuracy: 0.7050\n"
     ]
    }
   ],
   "source": [
    "model_history_a=model_a.fit(X_train,y_train,epochs=3,batch_size=64,validation_data=(X_valid,y_valid))"
   ]
  },
  {
   "cell_type": "code",
   "execution_count": 28,
   "id": "fb42d36c",
   "metadata": {},
   "outputs": [
    {
     "name": "stdout",
     "output_type": "stream",
     "text": [
      "Epoch 1/3\n",
      "860/860 [==============================] - 37s 43ms/step - loss: 0.7319 - accuracy: 0.7474 - val_loss: 0.7092 - val_accuracy: 0.7336\n",
      "Epoch 2/3\n",
      "860/860 [==============================] - 39s 46ms/step - loss: 0.4944 - accuracy: 0.8212 - val_loss: 0.4588 - val_accuracy: 0.8262\n",
      "Epoch 3/3\n",
      "860/860 [==============================] - 39s 45ms/step - loss: 0.4422 - accuracy: 0.8405 - val_loss: 0.9287 - val_accuracy: 0.7092\n"
     ]
    }
   ],
   "source": [
    "model_history_b=model_b.fit(X_train,y_train,epochs=3,batch_size=64,validation_data=(X_valid,y_valid))"
   ]
  },
  {
   "cell_type": "code",
   "execution_count": null,
   "id": "34733c1d",
   "metadata": {},
   "outputs": [],
   "source": []
  }
 ],
 "metadata": {
  "kernelspec": {
   "display_name": "Python 3 (ipykernel)",
   "language": "python",
   "name": "python3"
  },
  "language_info": {
   "codemirror_mode": {
    "name": "ipython",
    "version": 3
   },
   "file_extension": ".py",
   "mimetype": "text/x-python",
   "name": "python",
   "nbconvert_exporter": "python",
   "pygments_lexer": "ipython3",
   "version": "3.9.13"
  }
 },
 "nbformat": 4,
 "nbformat_minor": 5
}
