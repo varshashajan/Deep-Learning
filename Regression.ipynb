{
 "cells": [
  {
   "cell_type": "code",
   "execution_count": 1,
   "id": "a55234ee",
   "metadata": {},
   "outputs": [
    {
     "name": "stderr",
     "output_type": "stream",
     "text": [
      "C:\\Users\\User\\anaconda3\\lib\\site-packages\\scipy\\__init__.py:155: UserWarning: A NumPy version >=1.18.5 and <1.25.0 is required for this version of SciPy (detected version 1.26.0\n",
      "  warnings.warn(f\"A NumPy version >={np_minversion} and <{np_maxversion}\"\n"
     ]
    }
   ],
   "source": [
    "import numpy as np\n",
    "import pandas as pd\n",
    "import matplotlib.pyplot as plt\n",
    "import seaborn as sns\n",
    "import pydot\n",
    "import tensorflow as tf\n",
    "import keras\n",
    "from sklearn.model_selection import train_test_split\n",
    "from sklearn.preprocessing import StandardScaler\n"
   ]
  },
  {
   "cell_type": "code",
   "execution_count": 2,
   "id": "70029803",
   "metadata": {},
   "outputs": [],
   "source": [
    "from sklearn.datasets import fetch_california_housing"
   ]
  },
  {
   "cell_type": "code",
   "execution_count": 3,
   "id": "c293a6b9",
   "metadata": {},
   "outputs": [],
   "source": [
    "housing=fetch_california_housing()"
   ]
  },
  {
   "cell_type": "markdown",
   "id": "95216e85",
   "metadata": {},
   "source": [
    "1. Number of instances : 20640\n",
    "2. Number of attributes : 8\n",
    "3. Target:The target variable is the median house value in units of 100,000 for california districts"
   ]
  },
  {
   "cell_type": "markdown",
   "id": "a3e3cc21",
   "metadata": {},
   "source": [
    "Attribute Information:\n",
    "\n",
    "1. MedInc : median income in block\n",
    "2. HouseAge : median house age in block\n",
    "3. AveRooms : average number of blocks\n",
    "4. AveBedrms : average number of bedrooms\n",
    "5. Population : block population\n",
    "6. AveOccup : average housing occupancy\n",
    "7. Latitude : house block latitude\n",
    "8. Longitude : house block longitude"
   ]
  },
  {
   "cell_type": "code",
   "execution_count": 4,
   "id": "6cd10f5e",
   "metadata": {},
   "outputs": [
    {
     "name": "stdout",
     "output_type": "stream",
     "text": [
      "['MedInc', 'HouseAge', 'AveRooms', 'AveBedrms', 'Population', 'AveOccup', 'Latitude', 'Longitude']\n"
     ]
    }
   ],
   "source": [
    "print(housing.feature_names)"
   ]
  },
  {
   "cell_type": "code",
   "execution_count": 5,
   "id": "1d9854f8",
   "metadata": {},
   "outputs": [
    {
     "data": {
      "text/plain": [
       "'2.14.0'"
      ]
     },
     "execution_count": 5,
     "metadata": {},
     "output_type": "execute_result"
    }
   ],
   "source": [
    "keras.__version__"
   ]
  },
  {
   "cell_type": "code",
   "execution_count": 6,
   "id": "53b66654",
   "metadata": {},
   "outputs": [],
   "source": [
    "X=housing.data"
   ]
  },
  {
   "cell_type": "code",
   "execution_count": 7,
   "id": "69cb9693",
   "metadata": {},
   "outputs": [],
   "source": [
    "y=housing.target"
   ]
  },
  {
   "cell_type": "code",
   "execution_count": 8,
   "id": "d32a10cf",
   "metadata": {},
   "outputs": [],
   "source": [
    "X_train_full,X_test,y_train_full,y_test=train_test_split(X,y,random_state=42)"
   ]
  },
  {
   "cell_type": "code",
   "execution_count": 9,
   "id": "8eeea53e",
   "metadata": {},
   "outputs": [],
   "source": [
    "X_train,X_valid,y_train,y_valid=train_test_split(X_train_full,y_train_full,random_state=42)"
   ]
  },
  {
   "cell_type": "code",
   "execution_count": 10,
   "id": "947b4f86",
   "metadata": {},
   "outputs": [],
   "source": [
    "scaler=StandardScaler()\n",
    "X_train=scaler.fit_transform(X_train)\n",
    "X_valid=scaler.transform(X_valid)\n",
    "X_test=scaler.transform(X_test)"
   ]
  },
  {
   "cell_type": "code",
   "execution_count": 11,
   "id": "6091a0d4",
   "metadata": {},
   "outputs": [],
   "source": [
    "np.random.seed(42)\n",
    "tf.random.set_seed(42)"
   ]
  },
  {
   "cell_type": "code",
   "execution_count": 12,
   "id": "6d7d8dfa",
   "metadata": {},
   "outputs": [
    {
     "data": {
      "text/plain": [
       "(11610, 8)"
      ]
     },
     "execution_count": 12,
     "metadata": {},
     "output_type": "execute_result"
    }
   ],
   "source": [
    "X_train.shape"
   ]
  },
  {
   "cell_type": "code",
   "execution_count": 13,
   "id": "5c16ef83",
   "metadata": {},
   "outputs": [
    {
     "data": {
      "text/plain": [
       "(5160, 8)"
      ]
     },
     "execution_count": 13,
     "metadata": {},
     "output_type": "execute_result"
    }
   ],
   "source": [
    "X_test.shape"
   ]
  },
  {
   "cell_type": "code",
   "execution_count": 14,
   "id": "d51aee92",
   "metadata": {},
   "outputs": [
    {
     "data": {
      "text/plain": [
       "(3870, 8)"
      ]
     },
     "execution_count": 14,
     "metadata": {},
     "output_type": "execute_result"
    }
   ],
   "source": [
    "X_valid.shape"
   ]
  },
  {
   "cell_type": "markdown",
   "id": "bf1af258",
   "metadata": {},
   "source": [
    "Model Fitting\n"
   ]
  },
  {
   "cell_type": "code",
   "execution_count": 15,
   "id": "73813a08",
   "metadata": {},
   "outputs": [],
   "source": [
    "model=keras.models.Sequential([\n",
    "    keras.layers.Dense(30,activation='ReLU',input_shape=[8]),\n",
    "    keras.layers.Dense(30,activation='ReLU'),\n",
    "    keras.layers.Dense(1)\n",
    "])"
   ]
  },
  {
   "cell_type": "code",
   "execution_count": 16,
   "id": "cb544525",
   "metadata": {},
   "outputs": [
    {
     "name": "stdout",
     "output_type": "stream",
     "text": [
      "Model: \"sequential\"\n",
      "_________________________________________________________________\n",
      " Layer (type)                Output Shape              Param #   \n",
      "=================================================================\n",
      " dense (Dense)               (None, 30)                270       \n",
      "                                                                 \n",
      " dense_1 (Dense)             (None, 30)                930       \n",
      "                                                                 \n",
      " dense_2 (Dense)             (None, 1)                 31        \n",
      "                                                                 \n",
      "=================================================================\n",
      "Total params: 1231 (4.81 KB)\n",
      "Trainable params: 1231 (4.81 KB)\n",
      "Non-trainable params: 0 (0.00 Byte)\n",
      "_________________________________________________________________\n"
     ]
    }
   ],
   "source": [
    "model.summary()"
   ]
  },
  {
   "cell_type": "code",
   "execution_count": 17,
   "id": "ada91f09",
   "metadata": {},
   "outputs": [],
   "source": [
    "model.compile(loss='mean_squared_error',optimizer=keras.optimizers.SGD(learning_rate=1e-3),metrics=['mae'])"
   ]
  },
  {
   "cell_type": "code",
   "execution_count": 18,
   "id": "bd07c5c1",
   "metadata": {},
   "outputs": [
    {
     "name": "stdout",
     "output_type": "stream",
     "text": [
      "Epoch 1/20\n",
      "363/363 [==============================] - 1s 1ms/step - loss: 1.9456 - mae: 1.0113 - val_loss: 1.2437 - val_mae: 0.6469\n",
      "Epoch 2/20\n",
      "363/363 [==============================] - 0s 1ms/step - loss: 0.6960 - mae: 0.6128 - val_loss: 0.7471 - val_mae: 0.5887\n",
      "Epoch 3/20\n",
      "363/363 [==============================] - 0s 1ms/step - loss: 0.6162 - mae: 0.5765 - val_loss: 0.6269 - val_mae: 0.5539\n",
      "Epoch 4/20\n",
      "363/363 [==============================] - 0s 1ms/step - loss: 0.5749 - mae: 0.5537 - val_loss: 0.5912 - val_mae: 0.5405\n",
      "Epoch 5/20\n",
      "363/363 [==============================] - 0s 1ms/step - loss: 0.5458 - mae: 0.5366 - val_loss: 0.5330 - val_mae: 0.5181\n",
      "Epoch 6/20\n",
      "363/363 [==============================] - 0s 1ms/step - loss: 0.5207 - mae: 0.5237 - val_loss: 0.5068 - val_mae: 0.5065\n",
      "Epoch 7/20\n",
      "363/363 [==============================] - 0s 1ms/step - loss: 0.5015 - mae: 0.5120 - val_loss: 0.4833 - val_mae: 0.4959\n",
      "Epoch 8/20\n",
      "363/363 [==============================] - 0s 1ms/step - loss: 0.4851 - mae: 0.5031 - val_loss: 0.4650 - val_mae: 0.4858\n",
      "Epoch 9/20\n",
      "363/363 [==============================] - 0s 1ms/step - loss: 0.4716 - mae: 0.4959 - val_loss: 0.4541 - val_mae: 0.4796\n",
      "Epoch 10/20\n",
      "363/363 [==============================] - 0s 1ms/step - loss: 0.4604 - mae: 0.4898 - val_loss: 0.4492 - val_mae: 0.4740\n",
      "Epoch 11/20\n",
      "363/363 [==============================] - 0s 1ms/step - loss: 0.4516 - mae: 0.4842 - val_loss: 0.4459 - val_mae: 0.4725\n",
      "Epoch 12/20\n",
      "363/363 [==============================] - 0s 1ms/step - loss: 0.4437 - mae: 0.4798 - val_loss: 0.4407 - val_mae: 0.4656\n",
      "Epoch 13/20\n",
      "363/363 [==============================] - 0s 1ms/step - loss: 0.4372 - mae: 0.4760 - val_loss: 0.4421 - val_mae: 0.4655\n",
      "Epoch 14/20\n",
      "363/363 [==============================] - 0s 1ms/step - loss: 0.4314 - mae: 0.4724 - val_loss: 0.4459 - val_mae: 0.4639\n",
      "Epoch 15/20\n",
      "363/363 [==============================] - 0s 1ms/step - loss: 0.4262 - mae: 0.4700 - val_loss: 0.4451 - val_mae: 0.4591\n",
      "Epoch 16/20\n",
      "363/363 [==============================] - 0s 1ms/step - loss: 0.4217 - mae: 0.4673 - val_loss: 0.4421 - val_mae: 0.4571\n",
      "Epoch 17/20\n",
      "363/363 [==============================] - 0s 1ms/step - loss: 0.4178 - mae: 0.4645 - val_loss: 0.4429 - val_mae: 0.4536\n",
      "Epoch 18/20\n",
      "363/363 [==============================] - 0s 1ms/step - loss: 0.4143 - mae: 0.4626 - val_loss: 0.4500 - val_mae: 0.4510\n",
      "Epoch 19/20\n",
      "363/363 [==============================] - 0s 1ms/step - loss: 0.4104 - mae: 0.4597 - val_loss: 0.4487 - val_mae: 0.4502\n",
      "Epoch 20/20\n",
      "363/363 [==============================] - 0s 1ms/step - loss: 0.4081 - mae: 0.4585 - val_loss: 0.4675 - val_mae: 0.4512\n"
     ]
    }
   ],
   "source": [
    "model_history = model.fit(X_train,y_train,epochs=20,validation_data=(X_valid,y_valid))"
   ]
  },
  {
   "cell_type": "code",
   "execution_count": 19,
   "id": "b9106fe0",
   "metadata": {},
   "outputs": [
    {
     "name": "stdout",
     "output_type": "stream",
     "text": [
      "162/162 [==============================] - 0s 824us/step - loss: 0.4034 - mae: 0.4544\n"
     ]
    }
   ],
   "source": [
    "mae_test=model.evaluate(X_test,y_test)"
   ]
  },
  {
   "cell_type": "code",
   "execution_count": 20,
   "id": "d2196a32",
   "metadata": {},
   "outputs": [
    {
     "data": {
      "text/plain": [
       "{'loss': [1.9456449747085571,\n",
       "  0.6960201263427734,\n",
       "  0.6162126660346985,\n",
       "  0.5748827457427979,\n",
       "  0.5457620620727539,\n",
       "  0.520706057548523,\n",
       "  0.5015080571174622,\n",
       "  0.48508962988853455,\n",
       "  0.47159796953201294,\n",
       "  0.4604223370552063,\n",
       "  0.4515966475009918,\n",
       "  0.4437267482280731,\n",
       "  0.4371558129787445,\n",
       "  0.43138185143470764,\n",
       "  0.4262484908103943,\n",
       "  0.42171117663383484,\n",
       "  0.4178418219089508,\n",
       "  0.41427716612815857,\n",
       "  0.4103788435459137,\n",
       "  0.40813785791397095],\n",
       " 'mae': [1.0113003253936768,\n",
       "  0.6128334403038025,\n",
       "  0.5765151381492615,\n",
       "  0.5537325739860535,\n",
       "  0.5366197228431702,\n",
       "  0.5237408876419067,\n",
       "  0.5119830965995789,\n",
       "  0.5031010508537292,\n",
       "  0.49586883187294006,\n",
       "  0.4897688329219818,\n",
       "  0.4841737449169159,\n",
       "  0.4797819256782532,\n",
       "  0.476021945476532,\n",
       "  0.47240862250328064,\n",
       "  0.47002437710762024,\n",
       "  0.46725884079933167,\n",
       "  0.4645009934902191,\n",
       "  0.4626207947731018,\n",
       "  0.4596651494503021,\n",
       "  0.4585021138191223],\n",
       " 'val_loss': [1.2437151670455933,\n",
       "  0.7471207976341248,\n",
       "  0.6269192099571228,\n",
       "  0.5911501049995422,\n",
       "  0.5329887270927429,\n",
       "  0.5068162679672241,\n",
       "  0.48326751589775085,\n",
       "  0.4650419354438782,\n",
       "  0.4541394114494324,\n",
       "  0.4491521418094635,\n",
       "  0.445900559425354,\n",
       "  0.4406728446483612,\n",
       "  0.4420650601387024,\n",
       "  0.44589194655418396,\n",
       "  0.4451065957546234,\n",
       "  0.44213077425956726,\n",
       "  0.4428776204586029,\n",
       "  0.4500444233417511,\n",
       "  0.4487098753452301,\n",
       "  0.46750780940055847],\n",
       " 'val_mae': [0.6469396352767944,\n",
       "  0.5887107849121094,\n",
       "  0.5538692474365234,\n",
       "  0.5404720306396484,\n",
       "  0.5180785059928894,\n",
       "  0.5065054893493652,\n",
       "  0.4959285259246826,\n",
       "  0.4857648015022278,\n",
       "  0.4796084463596344,\n",
       "  0.4739813208580017,\n",
       "  0.47248461842536926,\n",
       "  0.46564674377441406,\n",
       "  0.46548423171043396,\n",
       "  0.463894784450531,\n",
       "  0.45913007855415344,\n",
       "  0.457072913646698,\n",
       "  0.4536352753639221,\n",
       "  0.45098137855529785,\n",
       "  0.45016780495643616,\n",
       "  0.45115965604782104]}"
      ]
     },
     "execution_count": 20,
     "metadata": {},
     "output_type": "execute_result"
    }
   ],
   "source": [
    "model_history.history"
   ]
  },
  {
   "cell_type": "code",
   "execution_count": 21,
   "id": "1520a79a",
   "metadata": {},
   "outputs": [
    {
     "data": {
      "image/png": "[encoded data removed]",
      "text/plain": [
       "<Figure size 800x500 with 1 Axes>"
      ]
     },
     "metadata": {},
     "output_type": "display_data"
    }
   ],
   "source": [
    "pd.DataFrame(model_history.history).plot(figsize=(8,5))\n",
    "plt.grid(True)\n",
    "plt.gca().set_ylim(0.1)\n",
    "plt.show()"
   ]
  },
  {
   "cell_type": "code",
   "execution_count": 22,
   "id": "4c96cfed",
   "metadata": {},
   "outputs": [],
   "source": [
    "X_new=X_test[:3]"
   ]
  },
  {
   "cell_type": "code",
   "execution_count": 23,
   "id": "18f77139",
   "metadata": {},
   "outputs": [
    {
     "name": "stdout",
     "output_type": "stream",
     "text": [
      "1/1 [==============================] - 0s 52ms/step\n"
     ]
    }
   ],
   "source": [
    "y_pred=model.predict(X_new)"
   ]
  },
  {
   "cell_type": "code",
   "execution_count": 24,
   "id": "14e10849",
   "metadata": {},
   "outputs": [
    {
     "data": {
      "text/plain": [
       "array([[0.8146409],\n",
       "       [1.6920142],\n",
       "       [3.6000438]], dtype=float32)"
      ]
     },
     "execution_count": 24,
     "metadata": {},
     "output_type": "execute_result"
    }
   ],
   "source": [
    "y_pred"
   ]
  },
  {
   "cell_type": "code",
   "execution_count": 25,
   "id": "041c5f98",
   "metadata": {},
   "outputs": [
    {
     "name": "stdout",
     "output_type": "stream",
     "text": [
      "[0.477   0.458   5.00001]\n"
     ]
    }
   ],
   "source": [
    "print(y_test[:3])"
   ]
  },
  {
   "cell_type": "code",
   "execution_count": 26,
   "id": "17386488",
   "metadata": {},
   "outputs": [],
   "source": [
    "del model"
   ]
  },
  {
   "cell_type": "code",
   "execution_count": 27,
   "id": "658e0242",
   "metadata": {},
   "outputs": [],
   "source": [
    "keras.backend.clear_session()"
   ]
  },
  {
   "cell_type": "markdown",
   "id": "54c623ba",
   "metadata": {},
   "source": [
    "Functional API"
   ]
  },
  {
   "cell_type": "code",
   "execution_count": 28,
   "id": "0bd18328",
   "metadata": {},
   "outputs": [],
   "source": [
    "input_ = keras.layers.Input(shape=X_train.shape[1:])\n",
    "hidden1 = keras.layers.Dense(30,activation='ReLU')(input_)\n",
    "hidden2 = keras.layers.Dense(30,activation='ReLU')(hidden1)\n",
    "concat  = keras.layers.concatenate([input_,hidden2])\n",
    "output = keras.layers.Dense(1)(concat)\n",
    "model = keras.models.Model(inputs=[input_],outputs=[output])"
   ]
  },
  {
   "cell_type": "code",
   "execution_count": 29,
   "id": "b0dbfd98",
   "metadata": {},
   "outputs": [
    {
     "name": "stdout",
     "output_type": "stream",
     "text": [
      "Model: \"model\"\n",
      "__________________________________________________________________________________________________\n",
      " Layer (type)                Output Shape                 Param #   Connected to                  \n",
      "==================================================================================================\n",
      " input_1 (InputLayer)        [(None, 8)]                  0         []                            \n",
      "                                                                                                  \n",
      " dense (Dense)               (None, 30)                   270       ['input_1[0][0]']             \n",
      "                                                                                                  \n",
      " dense_1 (Dense)             (None, 30)                   930       ['dense[0][0]']               \n",
      "                                                                                                  \n",
      " concatenate (Concatenate)   (None, 38)                   0         ['input_1[0][0]',             \n",
      "                                                                     'dense_1[0][0]']             \n",
      "                                                                                                  \n",
      " dense_2 (Dense)             (None, 1)                    39        ['concatenate[0][0]']         \n",
      "                                                                                                  \n",
      "==================================================================================================\n",
      "Total params: 1239 (4.84 KB)\n",
      "Trainable params: 1239 (4.84 KB)\n",
      "Non-trainable params: 0 (0.00 Byte)\n",
      "__________________________________________________________________________________________________\n"
     ]
    }
   ],
   "source": [
    "model.summary()"
   ]
  },
  {
   "cell_type": "code",
   "execution_count": 30,
   "id": "4ef1b050",
   "metadata": {},
   "outputs": [],
   "source": [
    "model.compile(loss='mean_squared_error',optimizer=keras.optimizers.SGD(learning_rate=1e-3),metrics=['mae'])"
   ]
  },
  {
   "cell_type": "code",
   "execution_count": 31,
   "id": "4df53610",
   "metadata": {},
   "outputs": [
    {
     "name": "stdout",
     "output_type": "stream",
     "text": [
      "Epoch 1/20\n",
      "363/363 [==============================] - 1s 1ms/step - loss: 2.6514 - mae: 1.1372 - val_loss: 0.8426 - val_mae: 0.6638\n",
      "Epoch 2/20\n",
      "363/363 [==============================] - 0s 1ms/step - loss: 0.7234 - mae: 0.6289 - val_loss: 0.9295 - val_mae: 0.5979\n",
      "Epoch 3/20\n",
      "363/363 [==============================] - 0s 1ms/step - loss: 0.6432 - mae: 0.5915 - val_loss: 0.7544 - val_mae: 0.5693\n",
      "Epoch 4/20\n",
      "363/363 [==============================] - 0s 1ms/step - loss: 0.6064 - mae: 0.5719 - val_loss: 0.5944 - val_mae: 0.5510\n",
      "Epoch 5/20\n",
      "363/363 [==============================] - 0s 1ms/step - loss: 0.5764 - mae: 0.5558 - val_loss: 0.5247 - val_mae: 0.5311\n",
      "Epoch 6/20\n",
      "363/363 [==============================] - 0s 1ms/step - loss: 0.5501 - mae: 0.5434 - val_loss: 0.5347 - val_mae: 0.5202\n",
      "Epoch 7/20\n",
      "363/363 [==============================] - 0s 1ms/step - loss: 0.5284 - mae: 0.5306 - val_loss: 0.5234 - val_mae: 0.5091\n",
      "Epoch 8/20\n",
      "363/363 [==============================] - 0s 1ms/step - loss: 0.5100 - mae: 0.5194 - val_loss: 0.4640 - val_mae: 0.4956\n",
      "Epoch 9/20\n",
      "363/363 [==============================] - 0s 1ms/step - loss: 0.4924 - mae: 0.5107 - val_loss: 0.4527 - val_mae: 0.4859\n",
      "Epoch 10/20\n",
      "363/363 [==============================] - 0s 1ms/step - loss: 0.4775 - mae: 0.5020 - val_loss: 0.4509 - val_mae: 0.4781\n",
      "Epoch 11/20\n",
      "363/363 [==============================] - 0s 1ms/step - loss: 0.4652 - mae: 0.4936 - val_loss: 0.4313 - val_mae: 0.4747\n",
      "Epoch 12/20\n",
      "363/363 [==============================] - 0s 1ms/step - loss: 0.4537 - mae: 0.4875 - val_loss: 0.4168 - val_mae: 0.4648\n",
      "Epoch 13/20\n",
      "363/363 [==============================] - 0s 1ms/step - loss: 0.4444 - mae: 0.4819 - val_loss: 0.4084 - val_mae: 0.4615\n",
      "Epoch 14/20\n",
      "363/363 [==============================] - 0s 1ms/step - loss: 0.4364 - mae: 0.4769 - val_loss: 0.4026 - val_mae: 0.4577\n",
      "Epoch 15/20\n",
      "363/363 [==============================] - 0s 1ms/step - loss: 0.4296 - mae: 0.4728 - val_loss: 0.4061 - val_mae: 0.4548\n",
      "Epoch 16/20\n",
      "363/363 [==============================] - 0s 1ms/step - loss: 0.4237 - mae: 0.4695 - val_loss: 0.3937 - val_mae: 0.4505\n",
      "Epoch 17/20\n",
      "363/363 [==============================] - 0s 1ms/step - loss: 0.4190 - mae: 0.4662 - val_loss: 0.4026 - val_mae: 0.4486\n",
      "Epoch 18/20\n",
      "363/363 [==============================] - 0s 1ms/step - loss: 0.4145 - mae: 0.4636 - val_loss: 0.4111 - val_mae: 0.4462\n",
      "Epoch 19/20\n",
      "363/363 [==============================] - 0s 1ms/step - loss: 0.4101 - mae: 0.4604 - val_loss: 0.3956 - val_mae: 0.4443\n",
      "Epoch 20/20\n",
      "363/363 [==============================] - 0s 1ms/step - loss: 0.4071 - mae: 0.4587 - val_loss: 0.4112 - val_mae: 0.4457\n"
     ]
    }
   ],
   "source": [
    "model_history=model.fit(X_train,y_train,epochs=20,validation_data=(X_valid,y_valid))"
   ]
  },
  {
   "cell_type": "code",
   "execution_count": 32,
   "id": "d96dc47e",
   "metadata": {},
   "outputs": [
    {
     "name": "stdout",
     "output_type": "stream",
     "text": [
      "162/162 [==============================] - 0s 809us/step - loss: 0.4054 - mae: 0.4581\n"
     ]
    }
   ],
   "source": [
    "mae_test=model.evaluate(X_test,y_test)"
   ]
  },
  {
   "cell_type": "code",
   "execution_count": 33,
   "id": "37908d09",
   "metadata": {},
   "outputs": [
    {
     "data": {
      "text/plain": [
       "{'loss': [2.651437759399414,\n",
       "  0.7234214544296265,\n",
       "  0.6431753635406494,\n",
       "  0.6063740253448486,\n",
       "  0.5763781070709229,\n",
       "  0.5501099228858948,\n",
       "  0.5283882021903992,\n",
       "  0.5100319385528564,\n",
       "  0.49235838651657104,\n",
       "  0.47752174735069275,\n",
       "  0.46520063281059265,\n",
       "  0.4536770284175873,\n",
       "  0.4444042444229126,\n",
       "  0.43635764718055725,\n",
       "  0.4295674264431,\n",
       "  0.4236650764942169,\n",
       "  0.41895225644111633,\n",
       "  0.41447824239730835,\n",
       "  0.41011735796928406,\n",
       "  0.4071387052536011],\n",
       " 'mae': [1.137189507484436,\n",
       "  0.628873348236084,\n",
       "  0.5914641618728638,\n",
       "  0.5718955993652344,\n",
       "  0.5558295249938965,\n",
       "  0.5433562994003296,\n",
       "  0.530577540397644,\n",
       "  0.5193764567375183,\n",
       "  0.5106713771820068,\n",
       "  0.5019676089286804,\n",
       "  0.49358507990837097,\n",
       "  0.4875354468822479,\n",
       "  0.48194149136543274,\n",
       "  0.47690680623054504,\n",
       "  0.47279736399650574,\n",
       "  0.46951425075531006,\n",
       "  0.4662078320980072,\n",
       "  0.4636409282684326,\n",
       "  0.4604344666004181,\n",
       "  0.4586573541164398],\n",
       " 'val_loss': [0.8426365256309509,\n",
       "  0.929531455039978,\n",
       "  0.7543802857398987,\n",
       "  0.5943665504455566,\n",
       "  0.5246796011924744,\n",
       "  0.5347455143928528,\n",
       "  0.5233774781227112,\n",
       "  0.4640446603298187,\n",
       "  0.45268428325653076,\n",
       "  0.45085299015045166,\n",
       "  0.4312576353549957,\n",
       "  0.41683608293533325,\n",
       "  0.4084325432777405,\n",
       "  0.4026251435279846,\n",
       "  0.40610724687576294,\n",
       "  0.3936508297920227,\n",
       "  0.40263211727142334,\n",
       "  0.41112038493156433,\n",
       "  0.3956018388271332,\n",
       "  0.41117024421691895],\n",
       " 'val_mae': [0.6638299822807312,\n",
       "  0.5978938341140747,\n",
       "  0.5693250298500061,\n",
       "  0.5510293245315552,\n",
       "  0.5311030149459839,\n",
       "  0.5201922655105591,\n",
       "  0.5090788006782532,\n",
       "  0.49556097388267517,\n",
       "  0.4859209954738617,\n",
       "  0.47807130217552185,\n",
       "  0.4746655821800232,\n",
       "  0.464824378490448,\n",
       "  0.461544394493103,\n",
       "  0.45773497223854065,\n",
       "  0.4548371732234955,\n",
       "  0.4505493938922882,\n",
       "  0.4486468434333801,\n",
       "  0.44624561071395874,\n",
       "  0.44429153203964233,\n",
       "  0.4457433819770813]}"
      ]
     },
     "execution_count": 33,
     "metadata": {},
     "output_type": "execute_result"
    }
   ],
   "source": [
    "model_history.history"
   ]
  },
  {
   "cell_type": "code",
   "execution_count": 34,
   "id": "9a0b5b0a",
   "metadata": {},
   "outputs": [
    {
     "data": {
      "image/png": "[encoded data removed]",
      "text/plain": [
       "<Figure size 800x500 with 1 Axes>"
      ]
     },
     "metadata": {},
     "output_type": "display_data"
    }
   ],
   "source": [
    "pd.DataFrame(model_history.history).plot(figsize=(8,5))\n",
    "plt.grid(True)\n",
    "plt.gca().set_ylim(0,1)\n",
    "plt.show()"
   ]
  },
  {
   "cell_type": "markdown",
   "id": "00c425ae",
   "metadata": {},
   "source": [
    "Saving and Restoring"
   ]
  },
  {
   "cell_type": "code",
   "execution_count": 35,
   "id": "97e0bf56",
   "metadata": {},
   "outputs": [
    {
     "name": "stdout",
     "output_type": "stream",
     "text": [
      "INFO:tensorflow:Assets written to: model_regression_API_keras\\assets\n"
     ]
    },
    {
     "name": "stderr",
     "output_type": "stream",
     "text": [
      "INFO:tensorflow:Assets written to: model_regression_API_keras\\assets\n"
     ]
    }
   ],
   "source": [
    "model.save(\"model_regression_API_keras\")"
   ]
  },
  {
   "cell_type": "code",
   "execution_count": 36,
   "id": "2374efd2",
   "metadata": {},
   "outputs": [
    {
     "data": {
      "text/plain": [
       "'C:\\\\Users\\\\User\\\\ANN-CNN PROJECTS'"
      ]
     },
     "execution_count": 36,
     "metadata": {},
     "output_type": "execute_result"
    }
   ],
   "source": [
    "%pwd"
   ]
  },
  {
   "cell_type": "code",
   "execution_count": 37,
   "id": "b3670e90",
   "metadata": {},
   "outputs": [],
   "source": [
    "del model"
   ]
  },
  {
   "cell_type": "code",
   "execution_count": 38,
   "id": "d6a2e8b9",
   "metadata": {},
   "outputs": [],
   "source": [
    "keras.backend.clear_session()"
   ]
  },
  {
   "cell_type": "code",
   "execution_count": 39,
   "id": "a794c816",
   "metadata": {},
   "outputs": [],
   "source": [
    "model=keras.models.load_model(\"model_regression_API_keras\")"
   ]
  },
  {
   "cell_type": "code",
   "execution_count": 40,
   "id": "ebe510c0",
   "metadata": {},
   "outputs": [
    {
     "data": {
      "text/plain": [
       "<keras.src.engine.functional.Functional at 0x235083ce580>"
      ]
     },
     "execution_count": 40,
     "metadata": {},
     "output_type": "execute_result"
    }
   ],
   "source": [
    "model"
   ]
  },
  {
   "cell_type": "code",
   "execution_count": 41,
   "id": "9dd1202a",
   "metadata": {},
   "outputs": [
    {
     "name": "stdout",
     "output_type": "stream",
     "text": [
      "Model: \"model\"\n",
      "__________________________________________________________________________________________________\n",
      " Layer (type)                Output Shape                 Param #   Connected to                  \n",
      "==================================================================================================\n",
      " input_1 (InputLayer)        [(None, 8)]                  0         []                            \n",
      "                                                                                                  \n",
      " dense (Dense)               (None, 30)                   270       ['input_1[0][0]']             \n",
      "                                                                                                  \n",
      " dense_1 (Dense)             (None, 30)                   930       ['dense[0][0]']               \n",
      "                                                                                                  \n",
      " concatenate (Concatenate)   (None, 38)                   0         ['input_1[0][0]',             \n",
      "                                                                     'dense_1[0][0]']             \n",
      "                                                                                                  \n",
      " dense_2 (Dense)             (None, 1)                    39        ['concatenate[0][0]']         \n",
      "                                                                                                  \n",
      "==================================================================================================\n",
      "Total params: 1239 (4.84 KB)\n",
      "Trainable params: 1239 (4.84 KB)\n",
      "Non-trainable params: 0 (0.00 Byte)\n",
      "__________________________________________________________________________________________________\n"
     ]
    }
   ],
   "source": [
    "model.summary()"
   ]
  },
  {
   "cell_type": "code",
   "execution_count": 42,
   "id": "5d74d207",
   "metadata": {},
   "outputs": [
    {
     "name": "stdout",
     "output_type": "stream",
     "text": [
      "1/1 [==============================] - 0s 36ms/step\n",
      "[[0.5863358]\n",
      " [1.6093793]\n",
      " [3.39426  ]]\n"
     ]
    }
   ],
   "source": [
    "y_pred=model.predict(X_new)\n",
    "print(y_pred)"
   ]
  },
  {
   "cell_type": "code",
   "execution_count": 43,
   "id": "5ad6dcde",
   "metadata": {},
   "outputs": [],
   "source": [
    "del model\n",
    "keras.backend.clear_session()"
   ]
  },
  {
   "cell_type": "markdown",
   "id": "1ed5f62c",
   "metadata": {},
   "source": [
    "Using Callbacks during Training"
   ]
  },
  {
   "cell_type": "code",
   "execution_count": 44,
   "id": "0caec091",
   "metadata": {},
   "outputs": [],
   "source": [
    "np.random.seed(42)\n",
    "tf.random.set_seed(42)"
   ]
  },
  {
   "cell_type": "code",
   "execution_count": 54,
   "id": "ad775b32",
   "metadata": {},
   "outputs": [],
   "source": [
    "model= keras.models.Sequential([\n",
    "    keras.layers.Dense(30,activation='ReLU',input_shape=[8]),\n",
    "    keras.layers.Dense(30,activation='ReLU'),\n",
    "    keras.layers.Dense(1)\n",
    "])"
   ]
  },
  {
   "cell_type": "code",
   "execution_count": 55,
   "id": "d9083604",
   "metadata": {},
   "outputs": [],
   "source": [
    "model.compile(loss='mse',optimizer=keras.optimizers.SGD(learning_rate=1e-3))"
   ]
  },
  {
   "cell_type": "code",
   "execution_count": 56,
   "id": "40a80ab7",
   "metadata": {},
   "outputs": [],
   "source": [
    "checkpoint_cb=keras.callbacks.ModelCheckpoint('Model-{epoch:02d}.keras')"
   ]
  },
  {
   "cell_type": "code",
   "execution_count": 48,
   "id": "cde494b1",
   "metadata": {},
   "outputs": [
    {
     "name": "stdout",
     "output_type": "stream",
     "text": [
      "Epoch 1/10\n",
      "363/363 [==============================] - 1s 1ms/step - loss: 2.0681 - val_loss: 1.0682\n",
      "Epoch 2/10\n",
      "363/363 [==============================] - 0s 1ms/step - loss: 0.7506 - val_loss: 0.6815\n",
      "Epoch 3/10\n",
      "363/363 [==============================] - 0s 1ms/step - loss: 0.6385 - val_loss: 0.6375\n",
      "Epoch 4/10\n",
      "363/363 [==============================] - 0s 1ms/step - loss: 0.5894 - val_loss: 0.5567\n",
      "Epoch 5/10\n",
      "363/363 [==============================] - 0s 1ms/step - loss: 0.5531 - val_loss: 0.5126\n",
      "Epoch 6/10\n",
      "363/363 [==============================] - 0s 1ms/step - loss: 0.5208 - val_loss: 0.4787\n",
      "Epoch 7/10\n",
      "363/363 [==============================] - 0s 1ms/step - loss: 0.4951 - val_loss: 0.4549\n",
      "Epoch 8/10\n",
      "363/363 [==============================] - 0s 1ms/step - loss: 0.4734 - val_loss: 0.4331\n",
      "Epoch 9/10\n",
      "363/363 [==============================] - 0s 1ms/step - loss: 0.4558 - val_loss: 0.4206\n",
      "Epoch 10/10\n",
      "363/363 [==============================] - 0s 1ms/step - loss: 0.4424 - val_loss: 0.4109\n"
     ]
    }
   ],
   "source": [
    "history = model.fit(X_train,y_train,epochs=10,validation_data=(X_valid,y_valid),callbacks=[checkpoint_cb])"
   ]
  },
  {
   "cell_type": "code",
   "execution_count": 57,
   "id": "f053fb2a",
   "metadata": {},
   "outputs": [],
   "source": [
    "del model\n"
   ]
  },
  {
   "cell_type": "code",
   "execution_count": 58,
   "id": "c68da77b",
   "metadata": {},
   "outputs": [],
   "source": [
    "keras.backend.clear_session()"
   ]
  },
  {
   "cell_type": "code",
   "execution_count": 59,
   "id": "a6cb21e6",
   "metadata": {},
   "outputs": [],
   "source": [
    "model=keras.models.load_model(\"Model-10.keras\")"
   ]
  },
  {
   "cell_type": "code",
   "execution_count": 60,
   "id": "85523b74",
   "metadata": {},
   "outputs": [
    {
     "name": "stdout",
     "output_type": "stream",
     "text": [
      "162/162 [==============================] - 0s 788us/step - loss: 0.4276\n"
     ]
    }
   ],
   "source": [
    "mse_test=model.evaluate(X_test,y_test)"
   ]
  },
  {
   "cell_type": "markdown",
   "id": "d37bd328",
   "metadata": {},
   "source": [
    "Best Model Only"
   ]
  },
  {
   "cell_type": "code",
   "execution_count": 61,
   "id": "c291d24f",
   "metadata": {},
   "outputs": [],
   "source": [
    "del model"
   ]
  },
  {
   "cell_type": "code",
   "execution_count": 62,
   "id": "58aee6af",
   "metadata": {},
   "outputs": [],
   "source": [
    "keras.backend.clear_session()"
   ]
  },
  {
   "cell_type": "code",
   "execution_count": 63,
   "id": "a186ec26",
   "metadata": {},
   "outputs": [],
   "source": [
    "model=keras.models.Sequential([\n",
    "    keras.layers.Dense(30,activation='ReLU',input_shape=[8]),\n",
    "    keras.layers.Dense(30,activation='ReLU'),\n",
    "    keras.layers.Dense(1)\n",
    "])"
   ]
  },
  {
   "cell_type": "code",
   "execution_count": 66,
   "id": "f4fdf03e",
   "metadata": {},
   "outputs": [],
   "source": [
    "model.compile(loss='mse',optimizer=keras.optimizers.SGD(learning_rate=1e-3))"
   ]
  },
  {
   "cell_type": "code",
   "execution_count": 69,
   "id": "dfdfcf83",
   "metadata": {},
   "outputs": [],
   "source": [
    "checkpoint_cb=keras.callbacks.ModelCheckpoint('Best_Model.keras')"
   ]
  },
  {
   "cell_type": "code",
   "execution_count": 70,
   "id": "b398d551",
   "metadata": {},
   "outputs": [],
   "source": [
    "early_stopping_cb=keras.callbacks.EarlyStopping(patience=10,restore_best_weights=True)"
   ]
  },
  {
   "cell_type": "code",
   "execution_count": 72,
   "id": "2f0e993a",
   "metadata": {},
   "outputs": [
    {
     "name": "stdout",
     "output_type": "stream",
     "text": [
      "Epoch 1/10\n",
      "363/363 [==============================] - 0s 1ms/step - loss: 0.4297 - val_loss: 0.4044\n",
      "Epoch 2/10\n",
      "363/363 [==============================] - 0s 971us/step - loss: 0.4230 - val_loss: 0.4176\n",
      "Epoch 3/10\n",
      "363/363 [==============================] - 0s 1ms/step - loss: 0.4174 - val_loss: 0.4116\n",
      "Epoch 4/10\n",
      "363/363 [==============================] - 0s 1ms/step - loss: 0.4129 - val_loss: 0.4087\n",
      "Epoch 5/10\n",
      "363/363 [==============================] - 0s 1ms/step - loss: 0.4088 - val_loss: 0.3960\n",
      "Epoch 6/10\n",
      "363/363 [==============================] - 0s 1ms/step - loss: 0.4051 - val_loss: 0.4188\n",
      "Epoch 7/10\n",
      "363/363 [==============================] - 0s 974us/step - loss: 0.4020 - val_loss: 0.4028\n",
      "Epoch 8/10\n",
      "363/363 [==============================] - 0s 957us/step - loss: 0.3991 - val_loss: 0.3895\n",
      "Epoch 9/10\n",
      "363/363 [==============================] - 0s 953us/step - loss: 0.3963 - val_loss: 0.4006\n",
      "Epoch 10/10\n",
      "363/363 [==============================] - 0s 988us/step - loss: 0.3937 - val_loss: 0.4211\n"
     ]
    }
   ],
   "source": [
    "history=model.fit(X_train,y_train,epochs=10,validation_data=(X_valid,y_valid),callbacks=[early_stopping_cb])"
   ]
  },
  {
   "cell_type": "code",
   "execution_count": 73,
   "id": "8beb4f38",
   "metadata": {},
   "outputs": [],
   "source": [
    "model=keras.models.load_model('Best_Model.keras')"
   ]
  },
  {
   "cell_type": "code",
   "execution_count": 74,
   "id": "74fe7625",
   "metadata": {},
   "outputs": [
    {
     "name": "stdout",
     "output_type": "stream",
     "text": [
      "162/162 [==============================] - 0s 674us/step - loss: 0.4246\n"
     ]
    }
   ],
   "source": [
    "mse_test=model.evaluate(X_test,y_test)"
   ]
  },
  {
   "cell_type": "code",
   "execution_count": null,
   "id": "e556789a",
   "metadata": {},
   "outputs": [],
   "source": []
  }
 ],
 "metadata": {
  "kernelspec": {
   "display_name": "Python 3 (ipykernel)",
   "language": "python",
   "name": "python3"
  },
  "language_info": {
   "codemirror_mode": {
    "name": "ipython",
    "version": 3
   },
   "file_extension": ".py",
   "mimetype": "text/x-python",
   "name": "python",
   "nbconvert_exporter": "python",
   "pygments_lexer": "ipython3",
   "version": "3.9.13"
  }
 },
 "nbformat": 4,
 "nbformat_minor": 5
}
