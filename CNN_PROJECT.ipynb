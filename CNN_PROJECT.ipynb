{
 "cells": [
  {
   "cell_type": "markdown",
   "id": "f2242290",
   "metadata": {},
   "source": [
    "# CAT AND DOG CLASSIFICATION"
   ]
  },
  {
   "cell_type": "markdown",
   "id": "80faf9ff",
   "metadata": {},
   "source": [
    "4000 Images(2000 cats,2000 Dogs)\n"
   ]
  },
  {
   "cell_type": "markdown",
   "id": "5ef37aee",
   "metadata": {},
   "source": [
    "2000 images = Train (class_a :1000 images , class_b : 1000 images)\n"
   ]
  },
  {
   "cell_type": "markdown",
   "id": "3b7a7ba6",
   "metadata": {},
   "source": [
    "1000 images = Valid (class_a :500 images , class_b : 500 images)\n"
   ]
  },
  {
   "cell_type": "markdown",
   "id": "efba0406",
   "metadata": {},
   "source": [
    "1000 images = Test "
   ]
  },
  {
   "cell_type": "markdown",
   "id": "b08f5fe3",
   "metadata": {},
   "source": [
    "class_a = cat, class_b=dog"
   ]
  },
  {
   "cell_type": "markdown",
   "id": "1025a720",
   "metadata": {},
   "source": [
    "# PROCESS"
   ]
  },
  {
   "cell_type": "markdown",
   "id": "a8c35412",
   "metadata": {},
   "source": [
    "1. CNN with small dataset(acc 71%)\n",
    "2. CNN with data augmentation(acc 80+%)\n",
    "3. Transfer learning(acc 90+&)"
   ]
  },
  {
   "cell_type": "code",
   "execution_count": 2,
   "id": "639eabf8",
   "metadata": {},
   "outputs": [],
   "source": [
    "import pandas as pd\n",
    "import numpy as np\n",
    "import matplotlib.pyplot as plt\n",
    "import os"
   ]
  },
  {
   "cell_type": "code",
   "execution_count": 3,
   "id": "e470df33",
   "metadata": {},
   "outputs": [
    {
     "name": "stderr",
     "output_type": "stream",
     "text": [
      "C:\\Users\\User\\anaconda3\\lib\\site-packages\\scipy\\__init__.py:155: UserWarning: A NumPy version >=1.18.5 and <1.25.0 is required for this version of SciPy (detected version 1.26.0\n",
      "  warnings.warn(f\"A NumPy version >={np_minversion} and <{np_maxversion}\"\n"
     ]
    }
   ],
   "source": [
    "import tensorflow as tf\n",
    "from tensorflow import keras"
   ]
  },
  {
   "cell_type": "code",
   "execution_count": 4,
   "id": "c314b5db",
   "metadata": {},
   "outputs": [],
   "source": [
    "train_dir=r'C:\\Users\\User\\Downloads\\cats_and_dogs_small\\train'\n",
    "validation_dir=r'C:\\Users\\User\\Downloads\\cats_and_dogs_small\\validation'\n",
    "test_dir=r'C:\\Users\\User\\Downloads\\cats_and_dogs_small\\test'"
   ]
  },
  {
   "cell_type": "markdown",
   "id": "92bd5feb",
   "metadata": {},
   "source": [
    "# Data Preprocessing"
   ]
  },
  {
   "cell_type": "markdown",
   "id": "f9d05b12",
   "metadata": {},
   "source": [
    "1. Read the picture file\n",
    "2. Decode the JPEG content to RGB grids of pixels\n",
    "3. Convert this into floating point tensors\n",
    "4. Rescale the pixel values(between 0 to 255) to the [0,1] interval"
   ]
  },
  {
   "cell_type": "code",
   "execution_count": 5,
   "id": "62ae3a66",
   "metadata": {},
   "outputs": [],
   "source": [
    "from tensorflow.keras.preprocessing.image import ImageDataGenerator"
   ]
  },
  {
   "cell_type": "code",
   "execution_count": 6,
   "id": "2a571f9f",
   "metadata": {},
   "outputs": [
    {
     "name": "stdout",
     "output_type": "stream",
     "text": [
      "Found 2000 images belonging to 2 classes.\n",
      "Found 1000 images belonging to 2 classes.\n"
     ]
    }
   ],
   "source": [
    "#Generating batches of tensor image data\n",
    "train_datagen=ImageDataGenerator(rescale=1./255)\n",
    "test_datagen=ImageDataGenerator(rescale=1./255)\n",
    "\n",
    "train_generator=train_datagen.flow_from_directory(\n",
    "         train_dir,\n",
    "         target_size=(150,150),\n",
    "        batch_size=20,\n",
    "        class_mode='binary')\n",
    "validation_generator=test_datagen.flow_from_directory(\n",
    "         validation_dir,\n",
    "         target_size=(150,150),\n",
    "        batch_size=20,\n",
    "        class_mode='binary')\n"
   ]
  },
  {
   "cell_type": "code",
   "execution_count": 12,
   "id": "bbbef9d9",
   "metadata": {},
   "outputs": [],
   "source": [
    "from tensorflow.keras import layers\n",
    "from tensorflow.keras import models"
   ]
  },
  {
   "cell_type": "code",
   "execution_count": 19,
   "id": "2f56fb0c",
   "metadata": {},
   "outputs": [],
   "source": [
    "model=models.Sequential()\n",
    "\n",
    "model.add(layers.Conv2D(32,(3,3),activation='relu',\n",
    "                        input_shape=(150,150,3)))\n",
    "model.add(layers.MaxPooling2D((2,2)))\n",
    "          \n",
    "model.add(layers.Conv2D(64,(3,3),activation='relu'))\n",
    "model.add(layers.MaxPooling2D((2,2)))\n",
    "        \n",
    "model.add(layers.Conv2D(128,(3,3),activation='relu'))\n",
    "model.add(layers.MaxPooling2D((2,2)))\n",
    "\n",
    "model.add(layers.Conv2D(128,(3,3),activation='relu'))\n",
    "model.add(layers.MaxPooling2D((2,2)))\n",
    "          \n",
    "model.add(layers.Flatten())\n",
    "          \n",
    "model.add(layers.Dense(512,activation='relu'))\n",
    "          \n",
    "model.add(layers.Dense(1,activation='sigmoid'))\n",
    "          "
   ]
  },
  {
   "cell_type": "markdown",
   "id": "7817f722",
   "metadata": {},
   "source": [
    "The number of features are increading as we go along on our network and the length of forward images are decreasing by maxpooling"
   ]
  },
  {
   "cell_type": "markdown",
   "id": "941e4c2e",
   "metadata": {},
   "source": [
    "This is the standard practise. Image size should decrease with each one layer and the feature map height should increase as you go along the network."
   ]
  },
  {
   "cell_type": "code",
   "execution_count": 20,
   "id": "b39913c0",
   "metadata": {},
   "outputs": [
    {
     "name": "stdout",
     "output_type": "stream",
     "text": [
      "Model: \"sequential_2\"\n",
      "_________________________________________________________________\n",
      " Layer (type)                Output Shape              Param #   \n",
      "=================================================================\n",
      " conv2d_8 (Conv2D)           (None, 148, 148, 32)      896       \n",
      "                                                                 \n",
      " max_pooling2d_8 (MaxPoolin  (None, 74, 74, 32)        0         \n",
      " g2D)                                                            \n",
      "                                                                 \n",
      " conv2d_9 (Conv2D)           (None, 72, 72, 64)        18496     \n",
      "                                                                 \n",
      " max_pooling2d_9 (MaxPoolin  (None, 36, 36, 64)        0         \n",
      " g2D)                                                            \n",
      "                                                                 \n",
      " conv2d_10 (Conv2D)          (None, 34, 34, 128)       73856     \n",
      "                                                                 \n",
      " max_pooling2d_10 (MaxPooli  (None, 17, 17, 128)       0         \n",
      " ng2D)                                                           \n",
      "                                                                 \n",
      " conv2d_11 (Conv2D)          (None, 15, 15, 128)       147584    \n",
      "                                                                 \n",
      " max_pooling2d_11 (MaxPooli  (None, 7, 7, 128)         0         \n",
      " ng2D)                                                           \n",
      "                                                                 \n",
      " flatten_1 (Flatten)         (None, 6272)              0         \n",
      "                                                                 \n",
      " dense_2 (Dense)             (None, 512)               3211776   \n",
      "                                                                 \n",
      " dense_3 (Dense)             (None, 1)                 513       \n",
      "                                                                 \n",
      "=================================================================\n",
      "Total params: 3453121 (13.17 MB)\n",
      "Trainable params: 3453121 (13.17 MB)\n",
      "Non-trainable params: 0 (0.00 Byte)\n",
      "_________________________________________________________________\n"
     ]
    }
   ],
   "source": [
    "model.summary()"
   ]
  },
  {
   "cell_type": "code",
   "execution_count": 22,
   "id": "f65acc6a",
   "metadata": {},
   "outputs": [],
   "source": [
    "from tensorflow.keras import optimizers\n",
    "\n",
    "model.compile(loss='binary_crossentropy',optimizer=optimizers.RMSprop(learning_rate=1e-4),metrics=['acc'])"
   ]
  },
  {
   "cell_type": "code",
   "execution_count": 28,
   "id": "81448810",
   "metadata": {},
   "outputs": [
    {
     "name": "stdout",
     "output_type": "stream",
     "text": [
      "Epoch 1/20\n"
     ]
    },
    {
     "name": "stderr",
     "output_type": "stream",
     "text": [
      "C:\\Users\\User\\AppData\\Local\\Temp\\ipykernel_20240\\3200035309.py:1: UserWarning: `Model.fit_generator` is deprecated and will be removed in a future version. Please use `Model.fit`, which supports generators.\n",
      "  history=model.fit_generator(\n"
     ]
    },
    {
     "name": "stdout",
     "output_type": "stream",
     "text": [
      "100/100 [==============================] - 42s 418ms/step - loss: 0.2642 - acc: 0.8975 - val_loss: 0.5879 - val_acc: 0.7380\n",
      "Epoch 2/20\n",
      "100/100 [==============================] - 42s 420ms/step - loss: 0.2384 - acc: 0.9060 - val_loss: 0.5968 - val_acc: 0.7470\n",
      "Epoch 3/20\n",
      "100/100 [==============================] - 42s 420ms/step - loss: 0.2228 - acc: 0.9185 - val_loss: 0.6626 - val_acc: 0.7230\n",
      "Epoch 4/20\n",
      "100/100 [==============================] - 43s 432ms/step - loss: 0.2071 - acc: 0.9195 - val_loss: 0.5682 - val_acc: 0.7630\n",
      "Epoch 5/20\n",
      "100/100 [==============================] - 41s 410ms/step - loss: 0.1904 - acc: 0.9285 - val_loss: 0.5860 - val_acc: 0.7450\n",
      "Epoch 6/20\n",
      "100/100 [==============================] - 42s 416ms/step - loss: 0.1813 - acc: 0.9390 - val_loss: 0.6300 - val_acc: 0.7410\n",
      "Epoch 7/20\n",
      "100/100 [==============================] - 41s 407ms/step - loss: 0.1548 - acc: 0.9500 - val_loss: 0.7077 - val_acc: 0.7280\n",
      "Epoch 8/20\n",
      "100/100 [==============================] - 41s 413ms/step - loss: 0.1413 - acc: 0.9525 - val_loss: 0.6912 - val_acc: 0.7370\n",
      "Epoch 9/20\n",
      "100/100 [==============================] - 41s 411ms/step - loss: 0.1350 - acc: 0.9530 - val_loss: 0.6446 - val_acc: 0.7600\n",
      "Epoch 10/20\n",
      "100/100 [==============================] - 42s 422ms/step - loss: 0.1152 - acc: 0.9660 - val_loss: 0.7354 - val_acc: 0.7390\n",
      "Epoch 11/20\n",
      "100/100 [==============================] - 42s 420ms/step - loss: 0.1029 - acc: 0.9675 - val_loss: 0.7368 - val_acc: 0.7270\n",
      "Epoch 12/20\n",
      "100/100 [==============================] - 41s 414ms/step - loss: 0.0894 - acc: 0.9735 - val_loss: 0.7468 - val_acc: 0.7390\n",
      "Epoch 13/20\n",
      "100/100 [==============================] - 195s 2s/step - loss: 0.0824 - acc: 0.9780 - val_loss: 0.7927 - val_acc: 0.7330\n",
      "Epoch 14/20\n",
      "100/100 [==============================] - 41s 410ms/step - loss: 0.0703 - acc: 0.9800 - val_loss: 0.8411 - val_acc: 0.7390\n",
      "Epoch 15/20\n",
      "100/100 [==============================] - 42s 421ms/step - loss: 0.0683 - acc: 0.9825 - val_loss: 0.8361 - val_acc: 0.7320\n",
      "Epoch 16/20\n",
      "100/100 [==============================] - 42s 422ms/step - loss: 0.0468 - acc: 0.9900 - val_loss: 0.9305 - val_acc: 0.7380\n",
      "Epoch 17/20\n",
      "100/100 [==============================] - 44s 438ms/step - loss: 0.0467 - acc: 0.9865 - val_loss: 0.9878 - val_acc: 0.7220\n",
      "Epoch 18/20\n",
      "100/100 [==============================] - 41s 411ms/step - loss: 0.0427 - acc: 0.9880 - val_loss: 0.9768 - val_acc: 0.7330\n",
      "Epoch 19/20\n",
      "100/100 [==============================] - 41s 411ms/step - loss: 0.0328 - acc: 0.9910 - val_loss: 1.0557 - val_acc: 0.7410\n",
      "Epoch 20/20\n",
      "100/100 [==============================] - 42s 416ms/step - loss: 0.0295 - acc: 0.9935 - val_loss: 1.0672 - val_acc: 0.7370\n"
     ]
    }
   ],
   "source": [
    "history=model.fit_generator(\n",
    "     train_generator,\n",
    "    steps_per_epoch=100,\n",
    "    epochs=20,\n",
    "    validation_data=validation_generator,\n",
    "    validation_steps=50)"
   ]
  },
  {
   "cell_type": "code",
   "execution_count": 30,
   "id": "c5198e12",
   "metadata": {},
   "outputs": [
    {
     "data": {
      "image/png": "[encoded data removed]",
      "text/plain": [
       "<Figure size 800x500 with 1 Axes>"
      ]
     },
     "metadata": {},
     "output_type": "display_data"
    }
   ],
   "source": [
    "pd.DataFrame(history.history).plot(figsize=(8,5))\n",
    "plt.grid(True)\n",
    "plt.gca().set_ylim(0,1)\n",
    "plt.show()\n"
   ]
  },
  {
   "cell_type": "code",
   "execution_count": 31,
   "id": "3c6df8cb",
   "metadata": {},
   "outputs": [],
   "source": [
    "model.save(\"model.h5\")\n"
   ]
  },
  {
   "cell_type": "code",
   "execution_count": 33,
   "id": "0f5ba012",
   "metadata": {},
   "outputs": [
    {
     "ename": "NameError",
     "evalue": "name 'model' is not defined",
     "output_type": "error",
     "traceback": [
      "\u001b[1;31m---------------------------------------------------------------------------\u001b[0m",
      "\u001b[1;31mNameError\u001b[0m                                 Traceback (most recent call last)",
      "\u001b[1;32m~\\AppData\\Local\\Temp\\ipykernel_20240\\2499732044.py\u001b[0m in \u001b[0;36m<module>\u001b[1;34m\u001b[0m\n\u001b[0;32m      1\u001b[0m \u001b[1;32mfrom\u001b[0m \u001b[0mtensorflow\u001b[0m\u001b[1;33m.\u001b[0m\u001b[0mkeras\u001b[0m \u001b[1;32mimport\u001b[0m \u001b[0mbackend\u001b[0m \u001b[1;32mas\u001b[0m \u001b[0mk\u001b[0m\u001b[1;33m\u001b[0m\u001b[1;33m\u001b[0m\u001b[0m\n\u001b[0;32m      2\u001b[0m \u001b[0mk\u001b[0m\u001b[1;33m.\u001b[0m\u001b[0mclear_session\u001b[0m\u001b[1;33m(\u001b[0m\u001b[1;33m)\u001b[0m\u001b[1;33m\u001b[0m\u001b[1;33m\u001b[0m\u001b[0m\n\u001b[1;32m----> 3\u001b[1;33m \u001b[1;32mdel\u001b[0m \u001b[0mmodel\u001b[0m\u001b[1;33m\u001b[0m\u001b[1;33m\u001b[0m\u001b[0m\n\u001b[0m",
      "\u001b[1;31mNameError\u001b[0m: name 'model' is not defined"
     ]
    }
   ],
   "source": [
    "from tensorflow.keras import backend as k\n",
    "k.clear_session()\n",
    "del model"
   ]
  },
  {
   "cell_type": "code",
   "execution_count": null,
   "id": "f56bf0b2",
   "metadata": {},
   "outputs": [],
   "source": []
  }
 ],
 "metadata": {
  "kernelspec": {
   "display_name": "Python 3 (ipykernel)",
   "language": "python",
   "name": "python3"
  },
  "language_info": {
   "codemirror_mode": {
    "name": "ipython",
    "version": 3
   },
   "file_extension": ".py",
   "mimetype": "text/x-python",
   "name": "python",
   "nbconvert_exporter": "python",
   "pygments_lexer": "ipython3",
   "version": "3.9.13"
  }
 },
 "nbformat": 4,
 "nbformat_minor": 5
}
